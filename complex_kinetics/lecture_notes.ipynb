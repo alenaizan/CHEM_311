{
 "cells": [
  {
   "cell_type": "markdown",
   "id": "4ee2aab2",
   "metadata": {
    "slideshow": {
     "slide_type": "slide"
    }
   },
   "source": [
    "# Complex Reaction Mechanisms"
   ]
  },
  {
   "cell_type": "markdown",
   "id": "3453af3d",
   "metadata": {
    "slideshow": {
     "slide_type": "slide"
    }
   },
   "source": [
    "## Reaction Mechanisms and Rate Laws\n",
    "* **Reaction mechanisms**: The collection of individual kinetic processes or steps involved in the transformation of reactants into products\n",
    "* **Simple reaction**: A reaction mechanism that consists of a single elementary step\n",
    "* **complex reaction**: A reaction that occurs in two or more elementary steps\n",
    "* For a reaction mechanism to be valid, the rate-law expression predicted by the mechanism must agree with experiment"
   ]
  },
  {
   "cell_type": "markdown",
   "id": "1ac9f89f",
   "metadata": {
    "slideshow": {
     "slide_type": "slide"
    }
   },
   "source": [
    "## Reaction Mechanisms and Rate Laws"
   ]
  },
  {
   "cell_type": "markdown",
   "id": "5f42e295",
   "metadata": {
    "cell_style": "split",
    "slideshow": {
     "slide_type": "-"
    }
   },
   "source": [
    "* Consider the following reaction:\n",
    "    $$ 2\\, {\\rm N}_2{\\rm O}_5 (g) \\rightarrow 4\\, {\\rm NO}_2 (g) + {\\rm O}_2 (g) $$\n",
    "* Assuming this is a simple reaction, this would be a second-order reaction with respect to ${\\rm N}_2{\\rm O}_5$\n",
    "* However, experiemntally, this rection is first order with respect to ${\\rm N}_2{\\rm O}_5$\n",
    "* Thus, the single step mechanism is incorrect"
   ]
  },
  {
   "cell_type": "markdown",
   "id": "ff62cb0f",
   "metadata": {
    "cell_style": "split",
    "slideshow": {
     "slide_type": "fragment"
    }
   },
   "source": [
    "* An alternative complex mechanism:\n",
    "    $$ 2 \\left \\{ {\\rm N}_2{\\rm O}_5 \\underset{k_{-1}}{\\stackrel{k_1}{\\rightleftharpoons}} {\\rm NO}_2 + {\\rm NO}_3 \\right \\} $$\n",
    "    $$ {\\rm NO}_2 + {\\rm NO}_3 \\xrightarrow{k_2} {\\rm NO}_2 + {\\rm O}_2 + {\\rm NO} $$\n",
    "    $$ {\\rm NO} + {\\rm NO}_3 \\xrightarrow{k_3} 2 \\, {\\rm NO}_2 $$\n",
    "* **Reaction intermediates** formed in one step must be consumed in another\n",
    "* The system of equations must be balanced\n",
    "* **Stoichiometric number**: The number of times a given step occurs in a reaction mechanism"
   ]
  },
  {
   "cell_type": "markdown",
   "id": "0f90a459",
   "metadata": {
    "slideshow": {
     "slide_type": "slide"
    }
   },
   "source": [
    "## Reaction Mechanisms and Rate Laws\n",
    "* *For a reaction mechanism to be considered valid, the mechanism must be consistent with the experimentally determined rate law*\n",
    "\n",
    "    $$ 2 \\left \\{ {\\rm N}_2{\\rm O}_5 \\underset{k_{-1}}{\\stackrel{k_1}{\\rightleftharpoons}} {\\rm NO}_2 + {\\rm NO}_3 \\right \\} $$\n",
    "    $$ {\\rm NO}_2 + {\\rm NO}_3 \\xrightarrow{k_2} {\\rm NO}_2 + {\\rm O}_2 + {\\rm NO} $$\n",
    "    $$ {\\rm NO} + {\\rm NO}_3 \\xrightarrow{k_3} 2 \\, {\\rm NO}_2 $$\n",
    "    \n",
    "* For the above mechanism, the rate is\n",
    "    $$ R = -\\frac{1}{2} \\frac{d[{\\rm N}_2{\\rm O}_5]}{dt} = \\frac{1}{2} ( k_1 [{\\rm N}_2{\\rm O}_5] - k_{-1} [{\\rm NO}_2] [{\\rm NO}_3]) $$\n",
    "* Applying the steady-state approximation,\n",
    "    $$ \\frac{d[{\\rm NO}]}{dt} = 0 = k_2 [{\\rm NO}_2] [{\\rm NO}_3] -k_3 [{\\rm NO}] [{\\rm NO}_3] $$\n",
    "    $$ \\frac{d[{\\rm NO}_3]}{dt} = 0 = k_1 [{\\rm N}_2{\\rm O}_5] - k_{-1} [{\\rm NO}_2] [{\\rm NO}_3] - k_2 [{\\rm NO}_2] [{\\rm NO}_3] -k_3 [{\\rm NO}] [{\\rm NO}_3] $$"
   ]
  },
  {
   "cell_type": "markdown",
   "id": "d30a3b32",
   "metadata": {
    "cell_style": "center",
    "slideshow": {
     "slide_type": "slide"
    }
   },
   "source": [
    "## Reaction Mechanisms and Rate Laws\n",
    "* $[{\\rm NO}]$ can be written as:\n",
    "    $$ [{\\rm NO}] = \\frac{k_2 [{\\rm NO}_2]}{k_3}$$\n",
    "* Thus,\n",
    "$$\n",
    "\\begin{align}\n",
    "     \\frac{d[{\\rm NO}]_3}{dt} = 0 &= k_1 [{\\rm N}_2{\\rm O}_5] - k_{-1} [{\\rm NO}_2] [{\\rm NO}_3] - k_2 [{\\rm NO}_2] [{\\rm NO}_3] -k_3 \\left ( \\frac{k_2 [{\\rm NO}_2]}{k_3} \\right ) [{\\rm NO}_3] \\\\\n",
    "                                0 &= k_1 [{\\rm N}_2{\\rm O}_5] - k_{-1} [{\\rm NO}_2] [{\\rm NO}_3] - 2 \\, k_2 [{\\rm NO}_2] [{\\rm NO}_3]\n",
    "\\end{align}\n",
    "$$\n",
    "$$ \\frac{k_1 [{\\rm N}_2{\\rm O}_5] }{k_{-1} + 2 k_2 } = [{\\rm NO}_2] [{\\rm NO}_3] $$\n"
   ]
  },
  {
   "cell_type": "markdown",
   "id": "424c427d",
   "metadata": {
    "cell_style": "center",
    "slideshow": {
     "slide_type": "slide"
    }
   },
   "source": [
    "* Substituting this into the rate equation,\n",
    "$$\n",
    "\\begin{align}\n",
    "R &= \\frac{1}{2} ( k_1 [{\\rm N}_2{\\rm O}_5] - k_{-1} [{\\rm NO}_2] [{\\rm NO}_3]) \\\\\n",
    "  &= \\frac{1}{2} \\left ( k_1 [{\\rm N}_2{\\rm O}_5] - k_{-1} \\left ( \\frac{k_1 [{\\rm N}_2{\\rm O}_5] }{k_{-1} + 2 k_2 } \\right ) \\right) \\\\\n",
    "  &= \\frac{k_1 k_2}{k_{-1} + 2 k_2} [{\\rm N}_2{\\rm O}_5] \\\\\n",
    "  &= k_{eff} [{\\rm N}_2{\\rm O}_5]\n",
    "\\end{align}\n",
    "$$\n",
    "* This mechanism is consistent with a first-order reaction (Plausible)"
   ]
  },
  {
   "cell_type": "markdown",
   "id": "812a3c4c",
   "metadata": {
    "slideshow": {
     "slide_type": "slide"
    }
   },
   "source": [
    "## The Preequilibrium Approximation"
   ]
  },
  {
   "cell_type": "markdown",
   "id": "10cfd5e0",
   "metadata": {
    "cell_style": "split",
    "slideshow": {
     "slide_type": "-"
    }
   },
   "source": [
    "* Used when equilibrium among a subset of species is established before product formation occurs\n",
    "* Consider the following reaction:\n",
    "    $$ {\\rm A} + {\\rm B}  \\underset{k_r}{\\stackrel{k_f}{\\rightleftharpoons}} {\\rm I} \\xrightarrow{k_p} {\\rm P} $$\n",
    "* Occurs in two steps:\n",
    "    * Equilibrium between reactants and intermdiate is maintained during the reaction\n",
    "    * Intermediate decays to form product\n"
   ]
  },
  {
   "cell_type": "markdown",
   "id": "60fe2b90",
   "metadata": {
    "cell_style": "split",
    "slideshow": {
     "slide_type": "fragment"
    }
   },
   "source": [
    "* The rate law:\n",
    "    $$ \\frac{d[{\\rm P}]}{dt} = k_p [{\\rm I}] $$\n",
    "* At equilibrium,\n",
    "    $$ \\frac{[{\\rm I}]}{[{\\rm A}][{\\rm B}]} = \\frac{k_f}{k_r} = K_c $$\n",
    "    $$ [{\\rm I}] = K_c [{\\rm A}][{\\rm B}] $$\n",
    "* Thus,\n",
    "    $$ \\frac{d[{\\rm P}]}{dt} = k_p [{\\rm I}] = k_p K_c [{\\rm A}][{\\rm B}] = k_{eff} [{\\rm A}][{\\rm B}] $$\n",
    "* Second order overall\n",
    "* Rate constant for product formation is $k_p K_c$"
   ]
  },
  {
   "cell_type": "markdown",
   "id": "5ff195ca",
   "metadata": {
    "cell_style": "split",
    "slideshow": {
     "slide_type": "slide"
    }
   },
   "source": [
    "### A Preequilibrium Example\n",
    "$$ 2\\, {\\rm NO} (g) + {\\rm O}_2 (g) \\rightarrow 2\\, {\\rm NO}_2 (g) $$\n",
    "* Observed reaction order:\n",
    "    * Second order in $\\rm NO$\n",
    "    * First order in ${\\rm O}_2$\n",
    "    * Is the reaction elementary?\n",
    "* Temperature dependence:\n",
    "    * If correct, raising temperature increases reaction rate\n",
    "    * This is the opposite of experimenmtal observations\n",
    "    * Thus, the above mechanism is incorrect"
   ]
  },
  {
   "cell_type": "markdown",
   "id": "0c17540e",
   "metadata": {
    "cell_style": "split",
    "slideshow": {
     "slide_type": "fragment"
    }
   },
   "source": [
    "* An alternative mechanism:\n",
    "    $$ 2 \\, {\\rm NO}  \\underset{k_r}{\\stackrel{k_f}{\\rightleftharpoons}} {\\rm N}_2{\\rm O}_2 \\quad ({\\rm exothermic})$$\n",
    "    $$ {\\rm N}_2{\\rm O}_2 + {\\rm O}_2 \\xrightarrow{k_p} 2 \\, {\\rm NO}_2 $$\n",
    "* Using the preequilibrium approximation,\n",
    "    $$ [{\\rm N}_2{\\rm O}_2] = \\frac{k_f}{k_r} [{\\rm NO}]^2 = K_c [{\\rm NO}]^2$$\n",
    "* Using the second reaction step,\n",
    "$$\n",
    "\\begin{align}\n",
    "R = \\frac{1}{2} \\frac{d [{\\rm NO}_2]}{dt} &= k_p [{\\rm N}_2{\\rm O}_2] [{\\rm O}_2] \\\\\n",
    "                                          &= k_p K_c [{\\rm NO}]^2 [{\\rm O}_2] \\\\\n",
    "                                          &= k_{eff} [{\\rm NO}]^2 [{\\rm O}_2]\n",
    "\\end{align}\n",
    "$$\n",
    "* Agrees with rate law and temperature dependence\n",
    "* Increasing T shifts Eq. 1 to the left"
   ]
  },
  {
   "cell_type": "markdown",
   "id": "273c562c",
   "metadata": {
    "cell_style": "split",
    "slideshow": {
     "slide_type": "slide"
    }
   },
   "source": [
    "## The Lindemann Mechanism\n",
    "\n",
    "* Provides an elegant example of the relationship between kinetics and reaction mechanisms for unimolecular dissociation reaction:\n",
    "    $$ {\\rm A} \\rightarrow {\\rm fragments} $$\n",
    "* Dependence of rate on concentration: \n",
    "    * First order at high concentration\n",
    "    * Second order at low concentration\n",
    "* The decomposition *is not* simply because of bimolecular collision"
   ]
  },
  {
   "cell_type": "markdown",
   "id": "3bb016d8",
   "metadata": {
    "cell_style": "split",
    "slideshow": {
     "slide_type": "fragment"
    }
   },
   "source": [
    "* The **Lindemann Mechanism**:\n",
    "    * Step 1: Reactants acquire sufficient energy to undergo reaction through a bimolecular collision\n",
    "    $$ {\\rm A} + {\\rm A} \\xrightarrow{k_1} {\\rm A}^* + {\\rm A} $$\n",
    "    * Step 2: The **activated reactant** undergoes\n",
    "        * collision resulting in deactivation:\n",
    "        $$ {\\rm A}^* + {\\rm A} \\xrightarrow{k_{-1}} {\\rm A} + {\\rm A} $$\n",
    "        * decomposition resulting in product formation:\n",
    "        $$ {\\rm A}^* \\xrightarrow{k_2} P $$"
   ]
  },
  {
   "cell_type": "markdown",
   "id": "2db8b46a",
   "metadata": {
    "cell_style": "split",
    "slideshow": {
     "slide_type": "slide"
    }
   },
   "source": [
    "## The Lindemann Mechanism\n",
    "\n",
    "* Rate of product formation\n",
    "    $$ \\frac{d[{\\rm P}]}{dt} = k_2 [{\\rm A}^*]$$\n",
    "* Applying the steady-state approximation,\n",
    "    $$ \\frac{d[{\\rm A}^*]}{dt} = k_1 [{\\rm A}]^2 - k_{-1} [{\\rm A}] [{\\rm A}^*] - k_2 [{\\rm A}^*] = 0 $$\n",
    "    $$ [{\\rm A}^*] = \\frac{k_1 [{\\rm A}]^2}{k_{-1} [{\\rm A}] + k_2} $$\n",
    "* Thus, the rate law is:\n",
    "    $$ \\frac{d[{\\rm P}]}{dt} = \\frac{k_1 k_2 [{\\rm A}]^2}{k_{-1} [{\\rm A}] + k_2} $$"
   ]
  },
  {
   "cell_type": "markdown",
   "id": "c72cc0c2",
   "metadata": {
    "cell_style": "split",
    "slideshow": {
     "slide_type": "fragment"
    }
   },
   "source": [
    "* At high concentration (pressure):\n",
    "    $$ \\frac{d[{\\rm P}]}{dt} = \\frac{k_1 k_2 [{\\rm A}]}{k_{-1}} $$\n",
    "* Mechanistically, at high pressures activated molecules will be produced faster than decomposition occurs such that the rate of decomposition is the rate-limiting step in product formation.\n",
    "* At low concentration:\n",
    "    $$ \\frac{d[{\\rm P}]}{dt} = k_1 [{\\rm A}]^2 $$\n",
    "* At low pressures, the formation of activated complex becomes the rate-limiting step in the reaction"
   ]
  },
  {
   "cell_type": "markdown",
   "id": "14be4b6e",
   "metadata": {
    "slideshow": {
     "slide_type": "slide"
    }
   },
   "source": [
    "## The Lindemann Mechanism: Generalization\n"
   ]
  },
  {
   "cell_type": "markdown",
   "id": "8ef14ccf",
   "metadata": {
    "cell_style": "split",
    "slideshow": {
     "slide_type": "-"
    }
   },
   "source": [
    "$$ {\\rm A} + {\\rm M} \\underset{k_{-1}}{\\stackrel{k_1}{\\rightleftharpoons}} {\\rm A}^* + {\\rm M} $$\n",
    "$$ {\\rm A}^* \\xrightarrow{k_2} P $$\n",
    "* $\\rm M$ is a collisional partner that can be the reactant itself (A) or some other species\n",
    "* The rate of production formation is:\n",
    "    $$ \\frac{d[{\\rm P}]}{dt} = \\frac{k_1 k_2 [{\\rm A}] [{\\rm M}]}{k_{-1} [{\\rm M}] + k_2} = k_{uni} [{\\rm A}]$$\n",
    "    $$ k_{uni} =  \\frac{k_1 k_2 [{\\rm M}]}{k_{-1} [{\\rm M}] + k_2} $$"
   ]
  },
  {
   "cell_type": "markdown",
   "id": "8b4b1df5",
   "metadata": {
    "cell_style": "split",
    "slideshow": {
     "slide_type": "fragment"
    }
   },
   "source": [
    "* At high $[{\\rm M}]$,\n",
    "    * $k_{uni} = k_1 k_2 / k_{-1}$\n",
    "    * Independent of $[{\\rm M}]$\n",
    "* At low $[{\\rm M}]$,\n",
    "    * $k_{uni} = k_1 [{\\rm M}]$\n",
    "    * First order depndence on $\\rm M$"
   ]
  },
  {
   "cell_type": "markdown",
   "id": "b7e4b347",
   "metadata": {
    "cell_style": "split",
    "slideshow": {
     "slide_type": "slide"
    }
   },
   "source": [
    "## The Lindemann Mechanism: Example\n",
    "* Rate constant for the isomerization of methyl isocyanide\n",
    "* Correct linear trend at low pressure\n",
    "* Correct constant value at high pressure"
   ]
  },
  {
   "cell_type": "markdown",
   "id": "5301103f",
   "metadata": {
    "cell_style": "split",
    "slideshow": {
     "slide_type": "-"
    }
   },
   "source": [
    "<img src=\"lindemann1.svg\" alt=\"Drawing\" width=\"90%;\"/>"
   ]
  },
  {
   "cell_type": "markdown",
   "id": "fb3f6ad4",
   "metadata": {
    "cell_style": "split",
    "slideshow": {
     "slide_type": "slide"
    }
   },
   "source": [
    "## The Lindemann Mechanism: Dependence on concentration\n",
    "$$ k_{uni} =  \\frac{k_1 k_2 [{\\rm M}]}{k_{-1} [{\\rm M}] + k_2} $$\n",
    "* Inverting the above equation,\n",
    "$$ \\frac{1}{k_{uni}} = \\frac{k_{-1}}{k_1 k_2} + \\left ( \\frac{1}{k_1} \\right ) \\frac{1}{[{\\rm M}]} $$\n",
    "* Plot of $ \\frac{1}{k_{uni}} $ versus $ \\frac{1}{[{\\rm M}]} $ yields a stright line with slope $1/k_1$ and $y$ intercept of $k_{-1}/k_1 k_2$ "
   ]
  },
  {
   "cell_type": "markdown",
   "id": "7362fc35",
   "metadata": {
    "cell_style": "split",
    "slideshow": {
     "slide_type": "fragment"
    }
   },
   "source": [
    "<img src=\"lindemann2.svg\" alt=\"Drawing\" width=\"90%;\"/>"
   ]
  },
  {
   "cell_type": "markdown",
   "id": "2f9d64f8",
   "metadata": {
    "slideshow": {
     "slide_type": "slide"
    }
   },
   "source": [
    "## Catalysis "
   ]
  },
  {
   "cell_type": "markdown",
   "id": "ce685e31",
   "metadata": {
    "cell_style": "split",
    "slideshow": {
     "slide_type": "-"
    }
   },
   "source": [
    "* **Catalyst**: Increases reaction rate, but remains intact after reaction completion\n",
    "* Provides an alternative mechanism for the conversion from reactants to products with a **lower activation energy**\n",
    "* The simplest mechanism describing a catalytic process:\n",
    "    $$ {\\rm S} + {\\rm C} \\underset{k_{-1}}{\\stackrel{k_1}{\\rightleftharpoons}} {\\rm SC}$$\n",
    "    $$ {\\rm SC} \\xrightarrow{k_2} {\\rm P} + {\\rm C} $$\n",
    "    * $\\rm S$: Reactant or substrate\n",
    "    * $\\rm C$: Catalyst\n",
    "    * $\\rm SC$: **Substrate-catalyst complex**"
   ]
  },
  {
   "cell_type": "markdown",
   "id": "72db0a2a",
   "metadata": {
    "cell_style": "split",
    "slideshow": {
     "slide_type": "-"
    }
   },
   "source": [
    "<img src=\"catalysis.svg\" alt=\"Drawing\" width=\"90%;\"/>"
   ]
  },
  {
   "cell_type": "markdown",
   "id": "f68ed14c",
   "metadata": {
    "slideshow": {
     "slide_type": "slide"
    }
   },
   "source": [
    "## Catalysis: Rate Equation"
   ]
  },
  {
   "cell_type": "markdown",
   "id": "64c4d3da",
   "metadata": {
    "cell_style": "split",
    "slideshow": {
     "slide_type": "-"
    }
   },
   "source": [
    "* Differential rate expression for production:\n",
    "    $$ \\frac{d[{\\rm P}]}{dt} = k_2 [{\\rm SC}]$$\n",
    "* Apply the steady-state approximation for $\\rm SC$:\n",
    "    $$ \n",
    "    \\begin{align}\n",
    "    \\frac{d[{\\rm SC}]}{dt} &= k_1 [{\\rm S}] [{\\rm C}] - k_{-1} [{\\rm SC}] - k_2 [{\\rm SC}] \\\\ \n",
    "                           &= 0\n",
    "    \\end{align}\n",
    "    $$\n",
    "    $$ [{\\rm SC}] = \\frac{k_1 [{\\rm S}] [{\\rm C}]}{k_{-1} + k_2} = \\frac{[{\\rm S}] [{\\rm C}]}{K_m} $$\n",
    "    * **Composite constant**: $K_m = \\frac{k_{-1} + k_2}{k_1}$"
   ]
  },
  {
   "cell_type": "markdown",
   "id": "9f67f671",
   "metadata": {
    "cell_style": "split",
    "slideshow": {
     "slide_type": "fragment"
    }
   },
   "source": [
    "* The production rate becomes:\n",
    "    $$ \\frac{d[{\\rm P}]}{dt} = \\frac{k_2 [{\\rm S}] [{\\rm C}]}{K_m} $$\n",
    "* Increases linearly with substrate and catalyst concentrations\n",
    "* In terms of initial concentrations,\n",
    "    $$ [{\\rm S}]_0 = [{\\rm S}] + [{\\rm SC}] + [{\\rm P}] $$\n",
    "    $$ [{\\rm C}]_0 = [{\\rm C}] + [{\\rm SC}] $$\n",
    "* Rearranging,\n",
    "    $$ [{\\rm S}] = [{\\rm S}]_0 - [{\\rm SC}] - [{\\rm P}]$$\n",
    "    $$ [{\\rm C}] = [{\\rm C}]_0 - [{\\rm SC}] $$"
   ]
  },
  {
   "cell_type": "markdown",
   "id": "e9746ddd",
   "metadata": {
    "slideshow": {
     "slide_type": "slide"
    }
   },
   "source": [
    "## Catalysis: Rate Equation\n",
    "* Substituting expressions for $[{\\rm S}]$ and $[{\\rm C}]$:\n",
    "    $$ K_m [{\\rm SC}] = [{\\rm S}] [{\\rm C}] = ([{\\rm S}]_0 - [{\\rm SC}] - [{\\rm P}])([{\\rm C}]_0 - [{\\rm SC}]) $$\n",
    "    $$0 = [ [{\\rm C}]_0 ([{\\rm S}]_0 - [{\\rm P}]) ] - [{\\rm SC}] ([{\\rm S}]_0 + [{\\rm C}]_0 - [{\\rm P}] + K_m) + [{\\rm SC}]^2 $$\n",
    "\n",
    "* Quadratic equation can be solved for $[{\\rm SC}]$\n",
    "* However, we can make two approximations:\n",
    "    * Setup a system with small $[{\\rm SC}]$\n",
    "        * $[{\\rm SC}]^2$ can be neglected\n",
    "    * At early stages, $[{\\rm P}]$ is small\n",
    "        * $[{\\rm P}] = 0$\n",
    "* Solving for $[{\\rm SC}]$,\n",
    "    $$ [{\\rm SC}] = \\frac{[{\\rm S}]_0 [{\\rm C}]_0}{[{\\rm S}]_0 + [{\\rm C}]_0 + K_m}$$"
   ]
  },
  {
   "cell_type": "markdown",
   "id": "c8584e32",
   "metadata": {
    "cell_style": "center",
    "slideshow": {
     "slide_type": "slide"
    }
   },
   "source": [
    "## Catalysis: Rate Equation"
   ]
  },
  {
   "cell_type": "markdown",
   "id": "fd13081c",
   "metadata": {
    "cell_style": "split",
    "slideshow": {
     "slide_type": "-"
    }
   },
   "source": [
    "* At early stages, the rate law becomes:\n",
    "    $$ R_0 = \\frac{d[{\\rm P}]}{dt} = \\frac{k_2 [{\\rm S}]_0 [{\\rm C}]_0}{[{\\rm S}]_0 + [{\\rm C}]_0 + K_m} $$\n",
    "* Two limiting cases:\n",
    "    * $[{\\rm C}]_0 \\ll [{\\rm S}]_0$\n",
    "    * $[{\\rm C}]_0 \\gg [{\\rm S}]_0$\n",
    "* Case 1: $[{\\rm C}]_0 \\ll [{\\rm S}]_0$\n",
    "* Most common\n",
    "* $[{\\rm C}]_0$ can be neglected\n",
    "* The rate becomes:\n",
    "    $$ R_0 = \\frac{d[{\\rm P}]}{dt} = \\frac{k_2 [{\\rm S}]_0 [{\\rm C}]_0}{[{\\rm S}]_0 + K_m} $$"
   ]
  },
  {
   "cell_type": "markdown",
   "id": "9ec5c834",
   "metadata": {
    "cell_style": "split",
    "slideshow": {
     "slide_type": "fragment"
    }
   },
   "source": [
    "* When $[{\\rm S}]_0 \\ll K_m $,\n",
    "    * Rate increases linearly with $[{\\rm S}]_0$\n",
    "    * ${\\rm slope} = k_2 [{\\rm C}]_0 / K_m$\n",
    "* When $[{\\rm S}]_0 \\gg K_m $,\n",
    "    * $R_0 = k_2 [{\\rm C}]_0 = R_{max}$\n",
    "    * Rate can only be enhanced by increasing $[{\\rm C}]_0$"
   ]
  },
  {
   "cell_type": "markdown",
   "id": "6843ed40",
   "metadata": {
    "slideshow": {
     "slide_type": "slide"
    }
   },
   "source": [
    "## Catalysis: Rate Equation"
   ]
  },
  {
   "cell_type": "markdown",
   "id": "50ddcbe4",
   "metadata": {
    "cell_style": "split",
    "slideshow": {
     "slide_type": "-"
    }
   },
   "source": [
    "* Two approaches for measuring $k_2$ and $K_m$\n",
    "* Approach 1:\n",
    "    * ${\\rm slope} = k_2 [{\\rm C}]_0 / K_m$\n",
    "        \n",
    " <img src=\"catalysis_parameters1.svg\" alt=\"Drawing\" width=\"70%;\"/>"
   ]
  },
  {
   "cell_type": "markdown",
   "id": "8d742146",
   "metadata": {
    "cell_style": "split",
    "slideshow": {
     "slide_type": "fragment"
    }
   },
   "source": [
    "* Approach 2: Invert rate law\n",
    "    $$ \\frac{1}{R_0} = \\left (\\frac{K_m}{k_2 [{\\rm C}]_0} \\right ) \\frac{1}{[{\\rm S}]_0} + \\frac{1}{k_2 [{\\rm C}]_0} $$\n",
    "    * **Reciprocal plot**\n",
    "<img src=\"catalysis_parameters2.svg\" alt=\"Drawing\" width=\"90%;\"/>"
   ]
  },
  {
   "cell_type": "markdown",
   "id": "e6d08506",
   "metadata": {
    "slideshow": {
     "slide_type": "slide"
    }
   },
   "source": [
    "## Catalysis: Rate Equation\n",
    "\n",
    "* Again, at early stages, the rate law becomes:\n",
    "    $$ R_0 = \\frac{d[{\\rm P}]}{dt} = \\frac{k_2 [{\\rm S}]_0 [{\\rm C}]_0}{[{\\rm S}]_0 + [{\\rm C}]_0 + K_m} $$\n",
    "* Two limiting cases:\n",
    "    * $[{\\rm C}]_0 \\ll [{\\rm S}]_0$\n",
    "    * $[{\\rm C}]_0 \\gg [{\\rm S}]_0$\n",
    "* Case 2: $[{\\rm C}]_0 \\gg [{\\rm S}]_0$\n",
    "    * Not common; catalyst can be expensive\n",
    "$$ R_0 =  \\frac{d[{\\rm P}]}{dt} = \\frac{k_2 [{\\rm S}]_0 [{\\rm C}]_0}{[{\\rm C}]_0 + K_m} $$\n",
    "* First order in $[{\\rm S}]_0$\n",
    "* First or zero order in $[{\\rm C}]_0$ depending on the magnitudes of $[{\\rm C}]_0$ and $K_m$"
   ]
  },
  {
   "cell_type": "markdown",
   "id": "7817fbca",
   "metadata": {
    "cell_style": "split",
    "slideshow": {
     "slide_type": "slide"
    }
   },
   "source": [
    "### Michaelis–Menten Enzyme Kinetics\n",
    "<img src=\"enzyme_image.png\" alt=\"Drawing\" width=\"50%;\"/>\n",
    "\n",
    "* **Enzymes** are the protein catalysts\n",
    "* Can be described using the **Michaelis–Menten mechanism**\n",
    "* \"Lock-and-key\" model"
   ]
  },
  {
   "cell_type": "markdown",
   "id": "bac89eee",
   "metadata": {
    "cell_style": "split",
    "slideshow": {
     "slide_type": "fragment"
    }
   },
   "source": [
    "<img src=\"lock_and_key.svg\" alt=\"Drawing\" width=\"40%;\"/>"
   ]
  },
  {
   "cell_type": "markdown",
   "id": "78f58a4c",
   "metadata": {
    "slideshow": {
     "slide_type": "slide"
    }
   },
   "source": [
    "### Michaelis–Menten Enzyme Kinetics"
   ]
  },
  {
   "cell_type": "markdown",
   "id": "6b98649d",
   "metadata": {
    "cell_style": "split",
    "slideshow": {
     "slide_type": "-"
    }
   },
   "source": [
    "$$ {\\rm E} + {\\rm S} \\underset{k_{-1}}{\\stackrel{k_1}{\\rightleftharpoons}} {\\rm ES}$$\n",
    "$$ {\\rm ES} \\xrightarrow{k_2} {\\rm E} + {\\rm P} $$\n",
    "\n",
    "* This is the same mechanism described before\n",
    "* When $[{\\rm S}]_0 \\gg [{\\rm E}]_0$:\n",
    "    $$ R_0 = \\frac{k_2 [{\\rm S}]_0 [{\\rm E}]_0}{[{\\rm S}]_0 + K_m} $$\n",
    "    * **Michaelis–Menten rate law**\n",
    "    * $K_m$: **Michaelis constant**\n",
    "* When $[{\\rm S}]_0 \\gg K_m$:\n",
    "    $$ R_0 = k_2 [{\\rm E}]_0 = R_{max} $$"
   ]
  },
  {
   "cell_type": "markdown",
   "id": "bd9dbd58",
   "metadata": {
    "cell_style": "split",
    "slideshow": {
     "slide_type": "fragment"
    }
   },
   "source": [
    "* Reciprocal **Lineweaver–Burk** plot:\n",
    "    $$\\frac{1}{R_0} = \\frac{1}{R_{max}} + \\frac{K_m}{R_{max}} \\frac{1}{[{\\rm S}]_0} $$\n",
    "* $[{\\rm E}]_0$ is readily determined experimentally\n",
    "* Thus, we can calculate $k_2$, the **turnover number**\n",
    "* $k_2$: The maximum number of substrate molecules per unit time that can be converted into product"
   ]
  },
  {
   "cell_type": "markdown",
   "id": "7bf51903",
   "metadata": {
    "slideshow": {
     "slide_type": "slide"
    }
   },
   "source": [
    "<img src=\"michaelis_menten_question.svg\" alt=\"Drawing\" width=\"50%;\"/>"
   ]
  },
  {
   "cell_type": "markdown",
   "id": "2243c044",
   "metadata": {
    "slideshow": {
     "slide_type": "slide"
    }
   },
   "source": [
    "<img src=\"michaelis_menten_answer.svg\" alt=\"Drawing\" width=\"50%;\"/>"
   ]
  },
  {
   "cell_type": "markdown",
   "id": "5b9f639e",
   "metadata": {
    "cell_style": "split",
    "slideshow": {
     "slide_type": "slide"
    }
   },
   "source": [
    "### Michaelis–Menten Enzyme Kinetics\n",
    "* In addition to the Lineweaver–Burk plot, $K_m$ can be estimated if the maximum rate is known.\n",
    "* For example, if $R_0 = \\frac{R_{max}}{2}$\n",
    "    $$\n",
    "    \\begin{align}\n",
    "    R_0 &= \\frac{k_2 [{\\rm S}]_0 [{\\rm E}]_0}{[{\\rm S}]_0 + K_m} = \\frac{R_{max} [{\\rm S}]_0}{[{\\rm S}]_0 + K_m} \\\\\n",
    "    \\frac{R_{max}}{2} &= \\frac{R_{max} [{\\rm S}]_0}{[{\\rm S}]_0 + K_m} \\\\\n",
    "    [{\\rm S}]_0 + K_m &= 2 [{\\rm S}]_0 \\\\\n",
    "    K_m = [{\\rm S}]_0\n",
    "    \\end{align}\n",
    "    $$"
   ]
  },
  {
   "cell_type": "markdown",
   "id": "3832dabb",
   "metadata": {
    "cell_style": "split",
    "slideshow": {
     "slide_type": "-"
    }
   },
   "source": [
    "<img src=\"substrate_saturation_curve.svg\" alt=\"Drawing\" width=\"80%;\"/>\n",
    "\n",
    "* $K_m$ can be determined by viewing a substrate saturation curve as shown\n",
    "* The initial rate is equal to half the maximum rate when $[{\\rm S}]_0 = 10 \\, {\\rm mM}$\n",
    "* Agrees with the Lineweaver–Burk plot"
   ]
  },
  {
   "cell_type": "markdown",
   "id": "8ce19d9f",
   "metadata": {
    "slideshow": {
     "slide_type": "slide"
    }
   },
   "source": [
    "### Competitive Inhibition in Enzyme Catalysis"
   ]
  },
  {
   "cell_type": "markdown",
   "id": "54bc5f66",
   "metadata": {
    "cell_style": "split",
    "slideshow": {
     "slide_type": "-"
    }
   },
   "source": [
    "* A **competitive inhibtor** ($\\rm I$) can occupy the enzyme active site\n",
    "$$ {\\rm E} + {\\rm S} \\underset{k_{-1}}{\\stackrel{k_1}{\\rightleftharpoons}} {\\rm ES}$$\n",
    "$$ {\\rm ES} \\xrightarrow{k_2} {\\rm E} + {\\rm P} $$\n",
    "$$ {\\rm E} + {\\rm I} \\underset{k_{-3}}{\\stackrel{k_3}{\\rightleftharpoons}} {\\rm EI} $$\n",
    "* How is the rate affected by inhibition?\n",
    "    $$ [{\\rm E}]_0 = [{\\rm E}] + [{\\rm EI}] + [{\\rm ES}] $$\n",
    "* Assuming $k_1, k_{-1}, k_3, k_{-3} \\gg k_2$, we apply the preequilibrium approximation:\n",
    "    $$ K_s = \\frac{[{\\rm E}][{\\rm S}]}{[{\\rm ES}]} \\approx K_m$$\n",
    "    $$ K_i = \\frac{[{\\rm E}][{\\rm I}]}{[{\\rm EI}]} $$"
   ]
  },
  {
   "cell_type": "markdown",
   "id": "f0e786e9",
   "metadata": {
    "cell_style": "split",
    "slideshow": {
     "slide_type": "fragment"
    }
   },
   "source": [
    "$$\n",
    "\\begin{align}\n",
    "    [{\\rm E}]_0 &= \\frac{K_m [{\\rm ES}]}{[{\\rm S}]} + \\frac{[{\\rm E}] [{\\rm I}]}{K_i} + [{\\rm ES}] \\\\\n",
    "                &= \\frac{K_m [{\\rm ES}]}{[{\\rm S}]} + \\left ( \\frac{K_m [{\\rm ES}]}{[{\\rm S}]} \\right ) \\frac{[{\\rm I}]}{K_i} + [{\\rm ES}] \\\\\n",
    "                &= [{\\rm ES}] \\left ( \\frac{K_m}{[{\\rm S}]} + \\frac{K_m [{\\rm I}]}{[{\\rm S}] K_i} + 1 \\right )\n",
    "\\end{align}\n",
    "$$\n",
    "* Solving for $[{\\rm ES}]$,\n",
    "    $$ [{\\rm ES}] = \\frac{[{\\rm E}]_0}{1 + \\frac{K_m}{[{\\rm S}]} + \\frac{K_m [{\\rm I}]}{[{\\rm S}] K_i}} $$"
   ]
  },
  {
   "cell_type": "markdown",
   "id": "b263531c",
   "metadata": {
    "cell_style": "center",
    "slideshow": {
     "slide_type": "slide"
    }
   },
   "source": [
    "### Competitive Inhibition in Enzyme Catalysis"
   ]
  },
  {
   "cell_type": "markdown",
   "id": "32b3a0c1",
   "metadata": {
    "cell_style": "split",
    "slideshow": {
     "slide_type": "-"
    }
   },
   "source": [
    "* The rate of production becomes\n",
    "    $$\n",
    "    \\begin{align}\n",
    "        R = \\frac{d[{\\rm P}]}{dt} &= k_2 [{\\rm ES}] \\\\\n",
    "                                  &= \\frac{k_2 [{\\rm E}]_0}{1 + \\frac{K_m}{[{\\rm S}]} + \\frac{K_m [{\\rm I}]}{[{\\rm S}] K_i}} \\\\\n",
    "                                  &= \\frac{k_2 [{\\rm S}] [{\\rm E}]_0}{[{\\rm S}] + K_m \\left (1 + \\frac{[{\\rm I}]}{K_i} \\right)} \\\\\n",
    "                                  &\\cong \\frac{k_2 [{\\rm S}]_0 [{\\rm E}]_0}{[{\\rm S}]_0 + K_m \\left (1 + \\frac{[{\\rm I}]}{K_i} \\right)}\n",
    "    \\end{align}\n",
    "    $$\n",
    "* If $[{\\rm ES}], [{\\rm P}] \\ll [{\\rm S}]$, $[{\\rm S}] \\cong [{\\rm S}]_0$"
   ]
  },
  {
   "cell_type": "markdown",
   "id": "e1a6fa06",
   "metadata": {
    "cell_style": "split",
    "slideshow": {
     "slide_type": "fragment"
    }
   },
   "source": [
    "* Summary:\n",
    "    * Unihibited rate:\n",
    "        $$ R_0 = \\frac{k_2 [{\\rm S}]_0 [{\\rm E}]_0}{[{\\rm S}]_0 + K_m} $$\n",
    "    * Inhibited rate:\n",
    "        $$ R_0 = \\frac{k_2 [{\\rm S}]_0 [{\\rm E}]_0}{[{\\rm S}]_0 + K_m^*} $$\n",
    "        $$ K_m^* = K_m \\left (1 + \\frac{[{\\rm I}]}{K_i} \\right ) $$\n",
    "    * $K_m^*$ reduces to $K_m$ when $[{\\rm I}] = 0$"
   ]
  },
  {
   "cell_type": "markdown",
   "id": "60bb7808",
   "metadata": {
    "slideshow": {
     "slide_type": "slide"
    }
   },
   "source": [
    "### Competitive Inhibition in Enzyme Catalysis\n",
    "$$ R \\cong \\frac{k_2 [{\\rm S}]_0 [{\\rm E}]_0}{[{\\rm S}]_0 + K_m \\left (1 + \\frac{[{\\rm I}]}{K_i} \\right)} $$"
   ]
  },
  {
   "cell_type": "code",
   "execution_count": 1,
   "id": "fc6b92e8",
   "metadata": {
    "cell_style": "center",
    "slideshow": {
     "slide_type": "-"
    }
   },
   "outputs": [
    {
     "data": {
      "application/vnd.jupyter.widget-view+json": {
       "model_id": "89385f2a538a47cab7473909fa517b58",
       "version_major": 2,
       "version_minor": 0
      },
      "text/plain": [
       "interactive(children=(FloatSlider(value=5.0, description='I', max=10.0, step=0.02), Output()), _dom_classes=('…"
      ]
     },
     "metadata": {},
     "output_type": "display_data"
    }
   ],
   "source": [
    "import functions\n",
    "functions.interactive_inhibited_catalysis"
   ]
  },
  {
   "cell_type": "markdown",
   "id": "f1d15bf1",
   "metadata": {
    "cell_style": "split",
    "slideshow": {
     "slide_type": "slide"
    }
   },
   "source": [
    "### Competitive Inhibition in Enzyme Catalysis\n",
    "* In terms of the maximum reaction rate:\n",
    "    $$ R_0 = \\frac{R_{max} [{\\rm S}]_0}{[{\\rm S}]_0 + K_m^*}$$\n",
    "* $ K_m^* \\ge K_m$. Thus, more substrate is required to reach half the maximum rate\n",
    "* The Lineweaver-Burk plot:\n",
    "    $$\\frac{1}{R_0} = \\frac{1}{R_{max}} + \\frac{K_m^*}{R_{max}} \\frac{1}{[{\\rm S}]_0} $$\n",
    "* Because $K_m^* \\ge K_m$, the slope will be greater with inhibitor"
   ]
  },
  {
   "cell_type": "markdown",
   "id": "3d4e517a",
   "metadata": {
    "cell_style": "split"
   },
   "source": [
    "<img src=\"inhibition.svg\" alt=\"Drawing\" width=\"50%;\"/>"
   ]
  },
  {
   "cell_type": "markdown",
   "id": "6f7620c7",
   "metadata": {
    "slideshow": {
     "slide_type": "slide"
    }
   },
   "source": [
    "## Homogeneous and Heterogeneous Catalysis\n",
    "* **Homogeneous Catalyst**: Same phase as the species of the reaction\n",
    "* **Heterogeneous Catalyst**: Different phase\n",
    "* Atmospheric gas phase example:\n",
    "    $$\n",
    "    \\begin{align}\n",
    "    {\\rm Cl} + {\\rm O}_3 \\xrightarrow{k_1} {\\rm ClO} + {\\rm O}_2  \\\\\n",
    "    {\\rm ClO} + {\\rm O} \\xrightarrow{k_2} {\\rm Cl} + {\\rm O}_2  \\\\\n",
    "    \\hline \\\\\n",
    "    {\\rm O}_3 + {\\rm O} \\rightarrow 2\\, {\\rm O}_2\n",
    "    \\end{align}\n",
    "    $$\n",
    "* $ k_1 = 1.56 \\times 10^{10} {\\rm M}^{-1} {\\rm s}^{-1}$ and $ k_2 = 2.44 \\times 10^{10} {\\rm M}^{-1} {\\rm s}^{-1}$\n",
    "* Goal: Determine the catalytic efficiency of $\\rm Cl$: $R_{cat}/R_{nc}$ \n",
    "* Rate law for uncatalyzed reaction ($R_{nc}$)\n",
    "    $$ R_{nc} = k_{nc} [{\\rm O}] [{\\rm O_3}] $$\n",
    "    $$ k_{nc} = 3.30 \\times 10^5 {\\rm M}^{-1} {\\rm s}^{-1}$$\n",
    "* Need to determine rate law for catalyzed reaction ($R_{cat}$)"
   ]
  },
  {
   "cell_type": "markdown",
   "id": "79cccb53",
   "metadata": {
    "cell_style": "center",
    "slideshow": {
     "slide_type": "slide"
    }
   },
   "source": [
    "## Homogeneous Catalysis Example"
   ]
  },
  {
   "cell_type": "markdown",
   "id": "c0dd679d",
   "metadata": {
    "cell_style": "split",
    "slideshow": {
     "slide_type": "-"
    }
   },
   "source": [
    "* At steady-state, the concentration of intermediates is constant\n",
    "    $$ [{\\rm Cl}]_{total} = [{\\rm Cl}] + [{\\rm ClO}]$$\n",
    "    $$\n",
    "    \\begin{align}\n",
    "    \\frac{d [{\\rm Cl}]}{dt} &= 0 \\\\\n",
    "                            &= -k_1 [{\\rm Cl}] [{\\rm O}_3] + k_2 [{\\rm ClO}] [{\\rm O}]\n",
    "    \\end{align}\n",
    "    $$\n",
    "    $$ k_1 [{\\rm Cl}] [{\\rm O}_3] = k_2 [{\\rm ClO}] [{\\rm O}] $$\n",
    "    $$\\frac{k_1 [{\\rm Cl}] [{\\rm O}_3]}{k_2 [{\\rm O}]} =[{\\rm ClO}] $$\n",
    "* In terms of total intermediate concentration,\n",
    "    $$ [{\\rm Cl}] = \\frac{k_2 [{\\rm Cl}]_{total} [{\\rm O}]}{k_1 [{\\rm O}_3] + k_2 [{\\rm O}]} $$"
   ]
  },
  {
   "cell_type": "markdown",
   "id": "b92cdfc9",
   "metadata": {
    "cell_style": "split",
    "slideshow": {
     "slide_type": "fragment"
    }
   },
   "source": [
    "* Rate of catalyzed reaction:\n",
    "    $$\n",
    "    \\begin{align}\n",
    "    R_{cat} &= -\\frac{d[{\\rm O}_3]}{dt} = k_1 [{\\rm Cl}] [{\\rm O}_3] \\\\\n",
    "            &= \\frac{k_1 k_2 [{\\rm Cl}]_{total} [{\\rm O}] [{\\rm O}_3]}{k_1 [{\\rm O}_3] + k_2 [{\\rm O}]}\n",
    "    \\end{align}                                   \n",
    "    $$\n",
    "* Given the stratosphere concentrations ($[{\\rm O}_3] \\gg [{\\rm O}]$) and the rate constants\n",
    "    $$R_{cat} = k_2 [{\\rm Cl}]_{total} [{\\rm O}]$$\n",
    "* A numerical estimate:\n",
    "    $$\n",
    "    \\begin{align}\n",
    "    \\frac{R_{cat}}{R_{un}} &= \\frac{k_2}{k_{nc}}\\times 10^{-3} \\\\\n",
    "                           &= \\frac{2.44 \\times 10^{10}}{3.30 \\times 10^5} \\times 10^{-3} \\approx 74\n",
    "    \\end{align}\n",
    "    $$\n",
    "* 74-fold increase in $[{\\rm O}_3]$ loss"
   ]
  },
  {
   "cell_type": "markdown",
   "id": "74116329",
   "metadata": {
    "cell_style": "split",
    "slideshow": {
     "slide_type": "slide"
    }
   },
   "source": [
    "## Heterogeneous Catalysis \n",
    "\n",
    "* Majoritiy of industrial catalysts are solids\n",
    "* Example: synthesis of ${\\rm NH}_3$ from ${\\rm N}_2$ and ${\\rm H}_2$ uses iron\n",
    "* **Adsorption** is an important step\n",
    "* **Physisorption**: Adsorption to the surface without changing internal bonding\n",
    "* **Fractional Coverage ($\\theta$)**:\n",
    "    $$\\theta = \\frac{\\textrm{Number of adsorption sites occupied}}{\\textrm{Total number of adsorption sites}} $$ \n",
    "* **Adsorption isotherm**: Variation in $\\theta$ with pressure at fixed temperature"
   ]
  },
  {
   "cell_type": "markdown",
   "id": "a592260c",
   "metadata": {
    "cell_style": "split",
    "slideshow": {
     "slide_type": "fragment"
    }
   },
   "source": [
    "<img src=\"fractional_coverage.svg\" alt=\"Drawing\" width=\"50%;\"/>\n",
    "\n",
    "* Alternative definition of $\\theta$:\n",
    "    * $\\theta = V_{adsorbed}/V_m$\n",
    "    * $V_{adsorbed}$: Volume of adsorbate at a specific pressure\n",
    "    * $V_m$: Volume of adsorbate in the high-pressure limit corresponding to monolayer coverage"
   ]
  },
  {
   "cell_type": "markdown",
   "id": "a0b3acf7",
   "metadata": {
    "slideshow": {
     "slide_type": "slide"
    }
   },
   "source": [
    "### Adsorption Kinetics\n",
    "* **Langmuir model**:\n",
    "    $$ {\\rm R}(g) + {\\rm M}\\,(surface) \\underset{k_{d}}{\\stackrel{k_a}{\\rightleftharpoons}} {\\rm RM}\\,(surface) $$\n",
    "    * $\\rm R$: Reagent\n",
    "    * ${\\rm M}\\,(surface)$: Unoccupied adsorption site\n",
    "    * ${\\rm RM}\\,(surface)$: Occupied adsorption site\n",
    "* Approximations:\n",
    "    * Adsorption is complete once monolayer coverage has been reached\n",
    "    * All adsorption sites are equivalent, and the surface is uniform\n",
    "    * The occupancy state of the adsorption site will not affect the probability of adsorption or desorption for adjacent sites"
   ]
  },
  {
   "cell_type": "markdown",
   "id": "3a2482a4",
   "metadata": {
    "cell_style": "center",
    "slideshow": {
     "slide_type": "slide"
    }
   },
   "source": [
    "### Adsorption Kinetics\n",
    "* Rate of change of $\\theta$ has adsorption and desorption components:\n",
    "    * $\\left ( \\frac{d\\theta}{dt} \\right)_{ads} = k_a P N (1-\\theta)$\n",
    "    * $\\left ( \\frac{d\\theta}{dt} \\right)_{des} = -k_d N \\theta $\n",
    "    * $P$: Pressure\n",
    "    * $N$: Total number of sites\n",
    "    \n",
    "* At equilibrium,\n",
    "    $$ \\frac{d\\theta}{dt} = 0 = k_a P N (1-\\theta) -k_d N \\theta $$\n",
    "    $$ (k_a P N + k_d N) \\theta = k_a P N$$\n",
    "    $$ \\theta = \\frac{k_a P}{k_a P + k_d} = \\frac{KP}{KP+1} $$\n",
    "* $ K = k_a/k_d$\n",
    "* This equation is the **Langmuir isotherm**"
   ]
  },
  {
   "cell_type": "markdown",
   "id": "f7775843",
   "metadata": {
    "cell_style": "center",
    "slideshow": {
     "slide_type": "slide"
    }
   },
   "source": [
    "### Adsorption Kinetics\n",
    "* If desorption rate increases relative to adsorption rate, high $P$ is needed to reach $\\theta= 1$"
   ]
  },
  {
   "cell_type": "markdown",
   "id": "855b67a3",
   "metadata": {
    "cell_style": "split",
    "slideshow": {
     "slide_type": "-"
    }
   },
   "source": [
    "$$ \\theta = \\frac{k_a P}{k_a P + k_d} = \\frac{KP}{KP+1} $$\n",
    "\n",
    "<img src=\"langmuir_isotherm.svg\" alt=\"Drawing\" width=\"55%;\"/>"
   ]
  },
  {
   "cell_type": "code",
   "execution_count": 1,
   "id": "89e01e47",
   "metadata": {
    "cell_style": "split",
    "slideshow": {
     "slide_type": "fragment"
    }
   },
   "outputs": [
    {
     "data": {
      "application/vnd.jupyter.widget-view+json": {
       "model_id": "3d76a38c8a334b51b9924911d11e055b",
       "version_major": 2,
       "version_minor": 0
      },
      "text/plain": [
       "interactive(children=(FloatSlider(value=2.5, description='K', max=5.0, min=0.05, step=0.05), Output()), _dom_c…"
      ]
     },
     "metadata": {},
     "output_type": "display_data"
    }
   ],
   "source": [
    "import functions\n",
    "functions.interactive_langmuir_isotherm"
   ]
  },
  {
   "cell_type": "markdown",
   "id": "6a2f8460",
   "metadata": {
    "cell_style": "split",
    "slideshow": {
     "slide_type": "slide"
    }
   },
   "source": [
    "### Chemisorption\n",
    "* **Chemisorption**: Adsorption accompanied by dissociation of the adsorbate\n",
    "* Described by:\n",
    "\n",
    "$$ {\\rm R}_2(g) + 2 {\\rm M}\\,(surface) \\underset{k_{d}}{\\stackrel{k_a}{\\rightleftharpoons}} 2 {\\rm RM}\\,(surface) $$\n",
    "\n",
    "* $\\theta$ is given by:\n",
    "    $$ \\theta = \\frac{(KP)^{1/2}}{(KP)^{1/2}+1} $$\n",
    "* Demonstrate weaker pressure dependence compared to physisorption"
   ]
  },
  {
   "cell_type": "markdown",
   "id": "303f0157",
   "metadata": {
    "cell_style": "split",
    "slideshow": {
     "slide_type": "fragment"
    }
   },
   "source": [
    "<img src=\"chemisorption.svg\" alt=\"Drawing\" width=\"55%;\"/>\n",
    "\n",
    "* Different Langmuir isotherms can be collected to determine K as a function of T\n",
    "* Enthalpy of adsorption can be determined using van't Hoff plot"
   ]
  },
  {
   "cell_type": "markdown",
   "id": "63cba8e8",
   "metadata": {
    "slideshow": {
     "slide_type": "slide"
    }
   },
   "source": [
    "<img src=\"adsorption_question.svg\" alt=\"Drawing\" width=\"80%;\"/>"
   ]
  },
  {
   "cell_type": "markdown",
   "id": "c7984a25",
   "metadata": {
    "slideshow": {
     "slide_type": "slide"
    }
   },
   "source": [
    "<img src=\"adsorption_answer.svg\" alt=\"Drawing\" width=\"100%;\"/>"
   ]
  },
  {
   "cell_type": "markdown",
   "id": "866aea8f",
   "metadata": {
    "slideshow": {
     "slide_type": "slide"
    }
   },
   "source": [
    "## Radical-Chain Reactions\n",
    "* **Radicals**: Chemical species containing an unpaired electron, represented by dot $\\cdot$\n",
    "* Example for radical-mediated reaction:\n",
    "    $${\\rm C}_2{\\rm H}_6 (g) \\rightarrow {\\rm C}_2{\\rm H}_4 (g) + {\\rm H}_2 (g)$$\n",
    "* Kinetic mechanism:\n",
    "\n",
    "$$\n",
    "    \\begin{align}\n",
    "    { \\rm \\bf Initiation}  \\quad &{\\rm C}_2{\\rm H}_6 \\xrightarrow{k_1} 2 \\, {{\\rm CH}_3 \\cdot} \\\\\n",
    "    { \\rm \\bf Propagation} \\quad & {{\\rm CH}_3 \\cdot} + {\\rm C}_2{\\rm H}_6  \\xrightarrow{k_2} {\\rm CH}_4 + {{\\rm C}_2{\\rm H}_5 \\cdot} \\\\\n",
    "                            & {{\\rm C}_2{\\rm H}_5 \\cdot} \\xrightarrow{k_3} {\\rm C}_2{\\rm H}_4 + {{\\rm H} \\cdot} \\\\\n",
    "                            & {{\\rm H} \\cdot} + {\\rm C}_2{\\rm H}_6 \\xrightarrow{k_4} {{\\rm C}_2{\\rm H}_5 \\cdot} + {\\rm H}_2 \\\\\n",
    "    { \\rm \\bf Termination} \\quad & {{\\rm H} \\cdot} + {{\\rm C}_2{\\rm H}_5 \\cdot} \\xrightarrow{k_5} {\\rm C}_2{\\rm H}_6 \n",
    "    \\end{align}\n",
    "$$"
   ]
  },
  {
   "cell_type": "markdown",
   "id": "824e9eeb",
   "metadata": {
    "slideshow": {
     "slide_type": "slide"
    }
   },
   "source": [
    "* Rate law:\n",
    "    $$ -\\frac{d[{\\rm C}_2{\\rm H}_6]}{dt} = k_1 [{\\rm C}_2{\\rm H}_6] + k_2 [{\\rm C}_2{\\rm H}_6] [{{\\rm CH}_3 \\cdot}]\n",
    "    + k_4 [{\\rm C}_2{\\rm H}_6] [{{\\rm H} \\cdot}] - k_5 [{{\\rm C}_2{\\rm H}_5 \\cdot}][{{\\rm H} \\cdot}] $$\n",
    "* Using the steady-state approximation for $[{{\\rm CH}_3 \\cdot}]$,\n",
    "    $$ \\frac{d [{{\\rm CH}_3 \\cdot}]}{dt} = 0 = 2 k_1 [{\\rm C}_2{\\rm H}_6] - k_2 [{\\rm C}_2{\\rm H}_6] [{{\\rm CH}_3 \\cdot}]$$\n",
    "    $$ [{{\\rm CH}_3 \\cdot}] = \\frac{2 k_1}{k_2} $$\n",
    "* Using the steady-state approximation for $[{{\\rm C}_2{\\rm H}_5 \\cdot}]$ and $[{{\\rm H} \\cdot}]$,\n",
    "    $$ \\frac{d [{{\\rm C}_2{\\rm H}_5 \\cdot}]}{dt} = 0 = k_2 [{{\\rm CH}_3 \\cdot}] [{\\rm C}_2{\\rm H}_6] - k_3 [{{\\rm C}_2{\\rm H}_5 \\cdot}] + k_4 [{\\rm C}_2{\\rm H}_6] [{{\\rm H} \\cdot}] - k_5 [{{\\rm C}_2{\\rm H}_5 \\cdot}] [{{\\rm H} \\cdot}] $$\n",
    "    $$ \\frac{d [{{\\rm H} \\cdot}]}{dt} = 0 = k_3 [{{\\rm C}_2{\\rm H}_5 \\cdot}] - k_4 [{\\rm C}_2{\\rm H}_6] [{{\\rm H} \\cdot}] - k_5 [{{\\rm C}_2{\\rm H}_5 \\cdot}] [{{\\rm H} \\cdot}]$$\n",
    "* Adding the above three steady-state equations,\n",
    "    $$ 0 = 2 k_1 [{\\rm C}_2{\\rm H}_6] - 2 k_5 [{{\\rm C}_2{\\rm H}_5 \\cdot}] [{{\\rm H} \\cdot}]$$\n",
    "    $$ [{{\\rm H} \\cdot}] = \\frac{k_1 [{\\rm C}_2{\\rm H}_6]}{k_5 [{{\\rm C}_2{\\rm H}_5 \\cdot}]} $$"
   ]
  },
  {
   "cell_type": "markdown",
   "id": "e32c19dd",
   "metadata": {
    "slideshow": {
     "slide_type": "slide"
    }
   },
   "source": [
    "* Substituting $ [{{\\rm H} \\cdot}] = \\frac{k_1 [{\\rm C}_2{\\rm H}_6]}{k_5 [{{\\rm C}_2{\\rm H}_5 \\cdot}]} $,\n",
    "    $$\n",
    "    \\begin{align}\n",
    "    \\frac{d [{{\\rm H} \\cdot}]}{dt} = &0 = k_3 [{{\\rm C}_2{\\rm H}_5 \\cdot}] - k_4 [{\\rm C}_2{\\rm H}_6] [{{\\rm H} \\cdot}] - k_5 [{{\\rm C}_2{\\rm H}_5 \\cdot}] [{{\\rm H} \\cdot}] \\\\\n",
    "                                     &0 = k_3 [{{\\rm C}_2{\\rm H}_5 \\cdot}] - k_4 [{\\rm C}_2{\\rm H}_6] \\left( \\frac{k_1 [{\\rm C}_2{\\rm H}_6]}{k_5 [{{\\rm C}_2{\\rm H}_5 \\cdot}]} \\right) - k_5 [{{\\rm C}_2{\\rm H}_5 \\cdot}] \\left ( \\frac{k_1 [{\\rm C}_2{\\rm H}_6]}{k_5 [{{\\rm C}_2{\\rm H}_5 \\cdot}]} \\right ) \\\\\n",
    "                                     &0 = k_3 [{{\\rm C}_2{\\rm H}_5 \\cdot}] - \\frac{k_4 k_1 [{\\rm C}_2{\\rm H}_6]^2}{k_5 [{{\\rm C}_2{\\rm H}_5 \\cdot}]} - k_1 [{\\rm C}_2{\\rm H}_6] \\\\\n",
    "                                     &0 = [{{\\rm C}_2{\\rm H}_5 \\cdot}]^2 - \\frac{k_4 k_1 [{\\rm C}_2{\\rm H}_6]^2}{k_5 k_3} - \\frac{k_1}{k_3} [{\\rm C}_2{\\rm H}_6] [{{\\rm C}_2{\\rm H}_5 \\cdot}] \n",
    "    \\end{align}\n",
    "    $$\n",
    "* The solution for $[{{\\rm C}_2{\\rm H}_5 \\cdot}]$ of the above quadratic equation:\n",
    "    $$[{{\\rm C}_2{\\rm H}_5 \\cdot}] =[{\\rm C}_2{\\rm H}_6]  \\left [ \\frac{k_1}{2k_3} + \\left ( \\left ( \\frac{k_1}{2 k_3}\\right )^2 + \\left ( \\frac{k_1 k_4}{k_3 k_5} \\right ) \\right )^{1/2} \\right ]$$\n",
    "* Experimentally, $k_1$ is small, so\n",
    "    $$[{{\\rm C}_2{\\rm H}_5 \\cdot}] = \\left ( \\frac{k_1 k_4}{k_3 k_5} \\right )^{1/2}  [{\\rm C}_2{\\rm H}_6]$$"
   ]
  },
  {
   "cell_type": "markdown",
   "id": "cb384e3b",
   "metadata": {
    "slideshow": {
     "slide_type": "slide"
    }
   },
   "source": [
    "* Again, $ [{{\\rm H} \\cdot}] = \\frac{k_1 [{\\rm C}_2{\\rm H}_6]}{k_5 [{{\\rm C}_2{\\rm H}_5 \\cdot}]} $\n",
    "* Substituting the expression for $[{{\\rm C}_2{\\rm H}_5 \\cdot}]$,\n",
    "    $$ [{{\\rm H} \\cdot}] = \\frac{k_1}{k_5} \\left ( \\frac{k_3 k_5}{k_1 k_4} \\right)^{1/2} = \\left ( \\frac{k_1 k_3}{k_4 k5}\\right )^{1/2}$$\n",
    "* With the definitions for $ [{{\\rm H} \\cdot}]$ and $[{{\\rm C}_2{\\rm H}_5 \\cdot}]$, the rate law becomes\n",
    "    \n",
    "    $$ -\\frac{d[{\\rm C}_2{\\rm H}_6]}{dt} = k_1 [{\\rm C}_2{\\rm H}_6] + k_2 [{\\rm C}_2{\\rm H}_6] [{{\\rm CH}_3 \\cdot}]\n",
    "    + k_4 [{\\rm C}_2{\\rm H}_6] [{{\\rm H} \\cdot}] - k_5 [{{\\rm C}_2{\\rm H}_5 \\cdot}][{{\\rm H} \\cdot}] $$\n",
    "    $$ -\\frac{d[{\\rm C}_2{\\rm H}_6]}{dt} = \\left ( k_2 [{{\\rm CH}_3 \\cdot}] + \\left ( \\frac{k_1 k_3 k_4}{k_5} \\right )^{1/2} \\right) [{\\rm C}_2{\\rm H}_6]$$\n",
    "    \n",
    "* Lastly, substituting $ [{{\\rm CH}_3 \\cdot}] = \\frac{2 k_1}{k_2} $, and ignoring higher powers of $k_1$\n",
    "    $$ -\\frac{d[{\\rm C}_2{\\rm H}_6]}{dt} = \\left( \\frac{k_1 k_3 k_4}{k_5} \\right)^{1/2} [{\\rm C}_2{\\rm H}_6]  $$\n",
    "* Remarkably, this is a simple first order with respect to $[{\\rm C}_2{\\rm H}_6]$\n",
    "* Generally, even the most complex radical mechanisms will yield orders of $1/2$, $1$, $3/2$, and $2$"
   ]
  },
  {
   "cell_type": "markdown",
   "id": "c06acd9b",
   "metadata": {
    "slideshow": {
     "slide_type": "slide"
    }
   },
   "source": [
    "<img src=\"radicals_question.svg\" alt=\"Drawing\" width=\"100%;\"/>"
   ]
  },
  {
   "cell_type": "markdown",
   "id": "96322433",
   "metadata": {
    "slideshow": {
     "slide_type": "slide"
    }
   },
   "source": [
    "<img src=\"radicals_answer.svg\" alt=\"Drawing\" width=\"100%;\"/>"
   ]
  }
 ],
 "metadata": {
  "celltoolbar": "Slideshow",
  "kernelspec": {
   "display_name": "Python 3 (ipykernel)",
   "language": "python",
   "name": "python3"
  },
  "language_info": {
   "codemirror_mode": {
    "name": "ipython",
    "version": 3
   },
   "file_extension": ".py",
   "mimetype": "text/x-python",
   "name": "python",
   "nbconvert_exporter": "python",
   "pygments_lexer": "ipython3",
   "version": "3.9.6"
  },
  "rise": {
   "autolaunch": true
  }
 },
 "nbformat": 4,
 "nbformat_minor": 5
}
