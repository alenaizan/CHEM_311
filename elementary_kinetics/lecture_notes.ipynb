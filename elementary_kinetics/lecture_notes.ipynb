{
 "cells": [
  {
   "cell_type": "markdown",
   "id": "182771e1",
   "metadata": {
    "slideshow": {
     "slide_type": "slide"
    }
   },
   "source": [
    "# CHEM 311: Physical Chemistry\n",
    "\n",
    "## Consists of three parts:\n",
    "* Chemical Kinetics\n",
    "* Quantum Mechnaics and Spectroscopy\n",
    "* Statistical Mechanics and Transport Phenomena\n",
    "\n",
    "## Contact Information\n",
    "* Instructor: Asem Alenaizan\n",
    "* Office: Building 16, room 120\n",
    "* Office hours: UTR, 10-11 am; 12-1 pm.\n",
    "* Telephone: 860-7804\n",
    "* Email: aalenaizan@kfupm.edu.sa"
   ]
  },
  {
   "cell_type": "markdown",
   "id": "7a0754a0-0030-4c85-9488-9fb6c5170e2d",
   "metadata": {
    "slideshow": {
     "slide_type": "slide"
    },
    "tags": []
   },
   "source": [
    "# Chemical Kinetics: Big Picture\n",
    "* Two questions about a given process:\n",
    "    * Is it possible (**Thermodynamics**)?\n",
    "    * Is it fast (**Kinetics**)?\n"
   ]
  },
  {
   "cell_type": "markdown",
   "id": "8a9cc0b2",
   "metadata": {
    "slideshow": {
     "slide_type": "fragment"
    }
   },
   "source": [
    "* What is **reaction mechanism**?\n",
    "* What is a **catalyst**?"
   ]
  },
  {
   "cell_type": "markdown",
   "id": "f544c396-3bcc-4c85-a5cf-380157238c02",
   "metadata": {
    "slideshow": {
     "slide_type": "slide"
    },
    "tags": []
   },
   "source": [
    "## Introduction to Kinetics\n",
    "\n",
    "<img src=\"concentration_vs_time.svg\" alt=\"Drawing\" width=\"40%;\"/>\n",
    "\n",
    "* Chemical Kinetics: The study of the rates of chemical reactions and their mechanisms.\n",
    "* Concentrations change with time as **reactants** become **products**.\n",
    "* **Reaction rate**: Rate of concentation change with time.\n",
    "* Depends on concentration and temperature.\n"
   ]
  },
  {
   "cell_type": "markdown",
   "id": "8ed6c6bd-b9be-4952-9e42-dd7f7f0dd414",
   "metadata": {
    "slideshow": {
     "slide_type": "slide"
    }
   },
   "source": [
    "## Reaction Rates\n",
    "* Generic reaction:\n",
    "$$a{\\rm A} + b {\\rm B} + \\cdots \\rightarrow c{\\rm C} + d {\\rm D} + \\cdots$$\n",
    "    * Upper case: Chemical species.\n",
    "    * Lower case: Stoichiometric coefficients in the balanced reaction."
   ]
  },
  {
   "cell_type": "markdown",
   "id": "c748d53d",
   "metadata": {
    "slideshow": {
     "slide_type": "fragment"
    }
   },
   "source": [
    "* Number of moles during the reaction:\n",
    "$$n_i = n_i^o + v_i \\xi$$\n",
    "    * $n_i^o$: Initial number of moles.\n",
    "    * $v_i$: Stoichiometric factor (-ve for reactants, +ve for products).\n",
    "    * $\\xi$: Extent of reaction (0 initially and 1 at the end)."
   ]
  },
  {
   "cell_type": "markdown",
   "id": "27843ac1",
   "metadata": {
    "slideshow": {
     "slide_type": "fragment"
    }
   },
   "source": [
    "* Time evolution (differential equation):\n",
    "$$\\frac{dn_i}{dt} = v_i\\frac{d\\xi}{dt}$$"
   ]
  },
  {
   "cell_type": "markdown",
   "id": "ef2ebb65",
   "metadata": {
    "slideshow": {
     "slide_type": "slide"
    }
   },
   "source": [
    "## Reaction Rates\n",
    "* Time evolution (differential equation):\n",
    "$$\\frac{dn_i}{dt} = v_i\\frac{d\\xi}{dt}$$"
   ]
  },
  {
   "cell_type": "markdown",
   "id": "d3164037",
   "metadata": {
    "slideshow": {
     "slide_type": "fragment"
    }
   },
   "source": [
    "* Reaction rate:\n",
    "$$ Rate = \\frac{d\\xi}{dt} = \\frac{1}{v_i}\\frac{dn_i}{dt}$$"
   ]
  },
  {
   "cell_type": "markdown",
   "id": "5dd396f0",
   "metadata": {
    "slideshow": {
     "slide_type": "fragment"
    }
   },
   "source": [
    "* Intensive reaction rate:\n",
    "    * Divide by the volume:\n",
    "    $$ R = \\frac{Rate}{V} = \\frac{1}{V} \\left(\\frac{1}{v_i}\\frac{dn_i}{dt}\\right) = \\frac{1}{v_i}\\frac{d[i]}{dt}$$\n",
    "    * $[i]$ is the molarity (concentration)"
   ]
  },
  {
   "cell_type": "markdown",
   "id": "ec07682d",
   "metadata": {
    "slideshow": {
     "slide_type": "slide"
    }
   },
   "source": [
    "## Reaction Rates\n",
    "\n",
    "* Question: Write down the reaction rate for the following reaction:\n",
    "$${\\rm 4 NO}_2(g) + {\\rm O}_2(g) \\rightarrow {\\rm 2 N}_2{\\rm O}_5(g)$$\n"
   ]
  },
  {
   "cell_type": "markdown",
   "id": "e8f402bc",
   "metadata": {
    "slideshow": {
     "slide_type": "fragment"
    }
   },
   "source": [
    "* Answer:\n",
    "    * $v_i$ is negative for reactants and positive for products\n",
    "    * Rate is always positive\n",
    "$$Rate = -\\frac{1}{4} \\frac{dn_{NO_2}}{dt}\n",
    "       = -\\frac{dn_{O_2}}{dt}\n",
    "       =  \\frac{1}{2} \\frac{dn_{N_2O_5}}{dt}$$"
   ]
  },
  {
   "cell_type": "markdown",
   "id": "27991f5e",
   "metadata": {
    "slideshow": {
     "slide_type": "slide"
    }
   },
   "source": [
    "## Reaction Rates\n",
    "\n",
    "<img src=\"reaction_rate_question.svg\" alt=\"Drawing\" width=\"55%;\"/>\n"
   ]
  },
  {
   "cell_type": "markdown",
   "id": "7b16f007",
   "metadata": {
    "slideshow": {
     "slide_type": "fragment"
    }
   },
   "source": [
    "<img src=\"reaction_rate_answer.svg\" alt=\"Drawing\" width=\"55%;\"/>"
   ]
  },
  {
   "cell_type": "markdown",
   "id": "aaf36520",
   "metadata": {
    "slideshow": {
     "slide_type": "slide"
    }
   },
   "source": [
    "## Rate Laws\n",
    "* Rate laws: Empirical relationship between reactant concentrations and rate of chemical reaction\n",
    "$$R = k [{\\rm A}]^\\alpha [{\\rm B}]^\\beta \\cdots$$\n",
    "    * $\\alpha$: **Reaction order** with respect to A, can be an integer or a fraction.\n",
    "    * Overall reaction order: $\\alpha + \\beta + \\cdots$\n",
    "    * $k$: **Rate constant**.\n",
    "* Rate constant is independent of concentration but depends on temperature and pressure"
   ]
  },
  {
   "cell_type": "markdown",
   "id": "d579238c",
   "metadata": {
    "slideshow": {
     "slide_type": "fragment"
    }
   },
   "source": [
    "* Reaction orders have **no relation** to stoichiometric coefficients, but are determined experimentally\n",
    "    * Example: For the following reaction:\n",
    "    $${\\rm 4 NO}_2(g) + {\\rm O}_2(g) \\rightarrow {\\rm 2 N}_2{\\rm O}_5(g)$$\n",
    "    the experimentally determined rate law is:\n",
    "    $$ R = k [{\\rm NO}_2]^2 [{\\rm O}_2] $$"
   ]
  },
  {
   "cell_type": "markdown",
   "id": "b91efb70",
   "metadata": {
    "slideshow": {
     "slide_type": "slide"
    }
   },
   "source": [
    "### Rate constant units\n",
    "* Reaction rate has units of concentration time$^{-1}$. Thus, units of $k$ depends on the overall order of the reaction:\n",
    "<img src=\"units_of_rate_constant.svg\" alt=\"Drawing\" width=\"60%;\"/>"
   ]
  },
  {
   "cell_type": "markdown",
   "id": "4eba4727",
   "metadata": {
    "cell_style": "center",
    "slideshow": {
     "slide_type": "slide"
    }
   },
   "source": [
    "### Measuring reaction rates"
   ]
  },
  {
   "cell_type": "markdown",
   "id": "86a65e0f",
   "metadata": {
    "cell_style": "split",
    "slideshow": {
     "slide_type": "fragment"
    }
   },
   "source": [
    "* Consider the reaction:\n",
    "$$ {\\rm A} \\xrightarrow{k} {\\rm B} $$ \n",
    "\n",
    "* Rate: -ve of slope of tangent\n",
    "    $$ R = -\\frac{d[{\\rm A}]}{dt} $$\n",
    "* Experimentally, $ R = k[{\\rm A}] = (40 \\,{\\rm s}^{-1}) [{\\rm A}] $\n",
    "* Suppose that at $t=0 \\,{\\rm ms,}\\, [{\\rm A}]_{t=0 {\\,\\rm ms}} = 1 \\,{\\rm M}$ and at $t=30 \\,{\\rm ms,}\\,[{\\rm A}]_{t=30 \\,{\\rm ms}} = 0.3 \\,{\\rm M}$\n",
    "* Thus,\n",
    "    $$ R_{t=0 \\,{\\rm ms}} = 40 \\,{\\rm s}^{-1} (1 \\,{\\rm M}) = 40 \\,{\\rm M s}^{-1} $$\n",
    "    but\n",
    "    $$ R_{t=30 \\,{\\rm ms}} = 40 \\,{\\rm s}^{-1} (0.3 \\,{\\rm M}) = 12 \\,{\\rm M s}^{-1} $$"
   ]
  },
  {
   "cell_type": "markdown",
   "id": "63ff730b",
   "metadata": {
    "cell_style": "split",
    "slideshow": {
     "slide_type": "-"
    }
   },
   "source": [
    "\n",
    "<img src=\"measuring_reaction_rate.svg\" alt=\"Drawing\" width=\"70%;\" align=\"right\"/>\n"
   ]
  },
  {
   "cell_type": "markdown",
   "id": "45bd853a",
   "metadata": {
    "slideshow": {
     "slide_type": "slide"
    }
   },
   "source": [
    "### Measuring reaction rates\n",
    "* Reaction rate depends on the time at which the rate is determined\n",
    "* Initial rate is used to compare different reactions\n",
    "* Given the rate constant, concentrations, and order dependence, the reaction rate can be determined at any time"
   ]
  },
  {
   "cell_type": "markdown",
   "id": "e857a84d",
   "metadata": {
    "slideshow": {
     "slide_type": "slide"
    }
   },
   "source": [
    "### Determining reaction orders\n",
    "* Consider the following reaction:\n",
    "    $${\\rm A + B} \\xrightarrow{k} {\\rm C} $$\n",
    "    * Rate low expression:\n",
    "    $$R = k [{\\rm A}]^\\alpha [{\\rm B}]^\\beta$$\n",
    "    * Task: Determine $\\alpha$ and $\\beta$ experimentally\n"
   ]
  },
  {
   "cell_type": "markdown",
   "id": "06250a4f",
   "metadata": {
    "slideshow": {
     "slide_type": "slide"
    }
   },
   "source": [
    "### Determining reaction orders\n",
    "\n",
    "* $R = k [{\\rm A}]^\\alpha [{\\rm B}]^\\beta$\n",
    "\n",
    "* **Approach 1: Isolation method**\n",
    "    * One reactant in excess (e.g. $[{\\rm A}] = 1.0\\, {\\rm M}$ and $[{\\rm B}] = 0.01\\, {\\rm M}$)\n",
    "    * At the end, $[{\\rm A}] = 0.99\\, {\\rm M} \\approx 1.0 \\, {\\rm M}$ and $[{\\rm B}] = 0\\, {\\rm M}$\n",
    "    * Thus, $R = k^\\prime [{\\rm B}]^\\beta$, where $k^\\prime = k [{\\rm A}]^\\alpha$\n"
   ]
  },
  {
   "cell_type": "markdown",
   "id": "590a3f2e",
   "metadata": {
    "slideshow": {
     "slide_type": "fragment"
    }
   },
   "source": [
    "* **Approach 2: Method of initial rates**\n",
    "    * Concentration of a single reactant is changed while holding the others constant\n",
    "    * Example: Let $[{\\rm A}]$ varies while $[{\\rm B}]$ remains constant.\n",
    "    $$ \\frac{R_1}{R_2} = \\frac{k [{\\rm A}]_1^\\alpha [{\\rm B}]_0^\\beta}{k [{\\rm A}]_2^\\alpha [{\\rm B}]_0^\\beta} = \\left(\\frac{[{\\rm A}]_1}{[{\\rm A}]_2}\\right)^\\alpha$$\n",
    "    $${\\rm ln}\\left(\\frac{R_1}{R_2}\\right) = \\alpha {\\rm ln}\\left(\\frac{[{\\rm A}]_1}{[{\\rm A}]_2}\\right)$$"
   ]
  },
  {
   "cell_type": "markdown",
   "id": "40063aa1",
   "metadata": {
    "slideshow": {
     "slide_type": "slide"
    }
   },
   "source": [
    "## Rate Laws\n",
    "\n",
    "<img src=\"rate_law_question.svg\" alt=\"Drawing\" width=\"50%;\"/>"
   ]
  },
  {
   "cell_type": "markdown",
   "id": "3dc5cee4",
   "metadata": {
    "slideshow": {
     "slide_type": "slide"
    }
   },
   "source": [
    "<img src=\"rate_law_answer.svg\" alt=\"Drawing\" width=\"50%;\"/>"
   ]
  },
  {
   "cell_type": "markdown",
   "id": "7d189e92",
   "metadata": {
    "slideshow": {
     "slide_type": "slide"
    }
   },
   "source": [
    "## Reaction Mechanisms\n",
    "\n",
    "* Again, reaction orders $\\neq$ stoichiometric coefficients\n",
    "* Rate law depends on reaction mechanism\n",
    "* **Reaction mechanism**: The collection of individual kinetic processes or elementary steps involved in the transformation of reactants into products\n",
    "* **Elementary step**: A chemical process that occurs in a single step\n",
    "* **Molecularity**: The stoichiometric quantity of reactants involved in **elementary** reaction\n",
    "* **Order of the reaction is equal to the molecularity for elementary reaction steps only**"
   ]
  },
  {
   "cell_type": "markdown",
   "id": "5001051d",
   "metadata": {
    "slideshow": {
     "slide_type": "fragment"
    }
   },
   "source": [
    "* Examples for elementary reactions:\n",
    "    * A unimolecular reaction: ${\\rm I}_2 \\xrightarrow{k} 2 {\\rm I}$\n",
    "    * $R = -\\frac{d[{\\rm I}_2]}{dt} = k [{\\rm I}_2]$\n",
    "    * A bimolecular reaction: ${\\rm NO} + {\\rm O}_3 \\xrightarrow{k} {\\rm NO}_2 + {\\rm O}_2$\n",
    "    * $R = -\\frac{d[{\\rm NO}]}{dt} = k [{\\rm NO}][{\\rm O}_3]$"
   ]
  },
  {
   "cell_type": "markdown",
   "id": "941c541b-997c-4477-bc81-a9b51f3f51f8",
   "metadata": {
    "slideshow": {
     "slide_type": "slide"
    }
   },
   "source": [
    "## Determining Reaction Mechanism\n",
    "* Challenge for kinetics: Determining the correct reaction mechanism\n",
    "* Example:\n",
    "    * Consider the reaction: ${\\rm A} \\xrightarrow{k} {\\rm P}$\n",
    "    * It can be a simple first order reaction\n",
    "    * Or it can proceed through intermediates: ${\\rm A} \\xrightarrow{k_1} {\\rm I} \\xrightarrow{k_2} {\\rm P}$\n",
    "    * Experimental observation of ${\\rm I}$ can validate the second mechanism"
   ]
  },
  {
   "cell_type": "markdown",
   "id": "2f025e47",
   "metadata": {
    "slideshow": {
     "slide_type": "fragment"
    }
   },
   "source": [
    "* Two general rules:\n",
    "    * It may be possible to rule out a proposed mechanism, but it is never possible to prove unequivocally that a given mechanism is correct\n",
    "    * Assume that the simplest mechanism consistent with the experimentally determined reaction order is correct until proven otherwise"
   ]
  },
  {
   "cell_type": "markdown",
   "id": "51fc3252",
   "metadata": {
    "slideshow": {
     "slide_type": "slide"
    }
   },
   "source": [
    "## Integrated Rate Law Expressions\n",
    "* The method of initial rates fail when the rate is fast\n",
    "* A numerical method (model) could be used to evaluate the kinetics of such reaction\n",
    "* **Integrated rate law expressions** provide the predicted evolution in reactant and product concentrations over time for reactions where the **order** is assumed"
   ]
  },
  {
   "cell_type": "markdown",
   "id": "edf935e6-cd24-404e-a0fb-520fe9af58dc",
   "metadata": {
    "slideshow": {
     "slide_type": "slide"
    },
    "tags": []
   },
   "source": [
    "### First-order reaction\n",
    "* Consider the following **elementary** reaction: ${\\rm A} \\xrightarrow{k} {\\rm P}$\n",
    "* The rate is given by:\n",
    "$$R = -\\frac{d[{\\rm A}]}{dt} = k [{\\rm A}]$$\n",
    "* This is a first order ordinary differential equation "
   ]
  },
  {
   "cell_type": "markdown",
   "id": "8f14635e",
   "metadata": {
    "slideshow": {
     "slide_type": "fragment"
    }
   },
   "source": [
    "* Solution:\n",
    "    $$\\int_{[{\\rm A}]_0}^{[{\\rm A}]} \\frac{d[{\\rm A}]}{[{\\rm A}]} = \\int_0^t -k dt$$\n",
    "    $${\\rm ln}\\left(\\frac{[{\\rm A}]}{[{\\rm A}]_0}\\right) = -kt$$\n",
    "    $$ [{\\rm A}] = [{\\rm A}]_0 e^{-kt}$$\n",
    "* For first-order reaction: $ [{\\rm A}] = [{\\rm A}]_0 e^{-kt}$\n",
    "* An alternative useful form: ${\\rm ln}([{\\rm A}]) = {\\rm ln}([{\\rm A}]_0)-kt$\n"
   ]
  },
  {
   "cell_type": "markdown",
   "id": "fc16c0aa",
   "metadata": {
    "slideshow": {
     "slide_type": "slide"
    }
   },
   "source": [
    "### First-order reaction\n",
    "* Product concentration:\n",
    "    * $ [{\\rm A}] + [{\\rm P}] = [{\\rm A}]_0$\n",
    "    * $ [{\\rm P}] = [{\\rm A}]_0(1-e^{-kt})$\n",
    "* **Half-Life** ($t_{1/2}$): The time it takes for the reactant concentration to decrease to one-half of its initial value\n",
    "    * $-k t_{1/2} = {\\rm ln}\\left(\\frac{[{\\rm A}]_0/2}{[{\\rm A}]_0}\\right) = {\\rm ln} \\,2$\n",
    "    * $t_{1/2} = \\frac{{\\rm ln} \\,2}{k}$\n",
    "    * Constant with respect to the initial concentration"
   ]
  },
  {
   "cell_type": "markdown",
   "id": "84e3776f",
   "metadata": {
    "slideshow": {
     "slide_type": "slide"
    }
   },
   "source": [
    "### First-order reaction\n",
    "* $ [{\\rm A}] = [{\\rm A}]_0 e^{-kt}$\n",
    "* ${\\rm ln}([{\\rm A}]) = {\\rm ln}([{\\rm A}]_0)-kt$\n",
    "* $ [{\\rm P}] = [{\\rm A}]_0(1-e^{-kt})$"
   ]
  },
  {
   "cell_type": "code",
   "execution_count": 1,
   "id": "83e8d537-ffb8-4b2f-998b-503b7e361c64",
   "metadata": {
    "scrolled": false,
    "slideshow": {
     "slide_type": "fragment"
    }
   },
   "outputs": [
    {
     "data": {
      "application/vnd.jupyter.widget-view+json": {
       "model_id": "95ddeb8c228f4b24aca8ed2b643a76b5",
       "version_major": 2,
       "version_minor": 0
      },
      "text/plain": [
       "interactive(children=(FloatSlider(value=0.21000000000000002, description='k', max=0.5, min=0.01, step=0.05), O…"
      ]
     },
     "metadata": {},
     "output_type": "display_data"
    }
   ],
   "source": [
    "import functions\n",
    "functions.interactive_first_order_plot"
   ]
  },
  {
   "cell_type": "markdown",
   "id": "e6220d05",
   "metadata": {
    "slideshow": {
     "slide_type": "slide"
    }
   },
   "source": [
    "### First-order reaction\n",
    "\n",
    "<img src=\"first_order_reaction_question.svg\" alt=\"Drawing\" width=\"55%;\"/>"
   ]
  },
  {
   "cell_type": "markdown",
   "id": "ad3f9ae3",
   "metadata": {
    "slideshow": {
     "slide_type": "fragment"
    }
   },
   "source": [
    "<img src=\"first_order_reaction_answer.svg\" alt=\"Drawing\" width=\"55%;\"/>"
   ]
  },
  {
   "cell_type": "markdown",
   "id": "97cc1397",
   "metadata": {
    "cell_style": "split",
    "slideshow": {
     "slide_type": "slide"
    }
   },
   "source": [
    "### First-order reaction\n",
    "\n",
    "<img src=\"first_order_reaction_question2.svg\" alt=\"Drawing\" width=\"100%;\"/>"
   ]
  },
  {
   "cell_type": "markdown",
   "id": "d55374b2",
   "metadata": {
    "cell_style": "split",
    "slideshow": {
     "slide_type": "fragment"
    }
   },
   "source": [
    "<img src=\"first_order_reaction_answer2.svg\" alt=\"Drawing\" width=\"100%;\"/>"
   ]
  },
  {
   "cell_type": "markdown",
   "id": "8faaf0ca-2bdd-4210-b70d-ce82a57e45e2",
   "metadata": {
    "slideshow": {
     "slide_type": "slide"
    },
    "tags": []
   },
   "source": [
    "### Second-order reaction (Type I)\n",
    "* Consider the following **elementary** reaction: $2{\\rm A} \\xrightarrow{k} {\\rm P}$\n",
    "* The rate is given by:\n",
    "$$R = -\\frac{1}{2}\\frac{d[{\\rm A}]}{dt} = k [{\\rm A}]^2$$\n",
    "* Rearranging,\n",
    "$$-\\frac{d[{\\rm A}]}{dt} = 2k [{\\rm A}]^2 = k_{eff}[{\\rm A}]^2$$\n",
    "* This is a second order ordinary differential equation\n",
    "$$-\\frac{d[{\\rm A}]}{dt} = k_{eff}[{\\rm A}]^2$$"
   ]
  },
  {
   "cell_type": "markdown",
   "id": "a0986809",
   "metadata": {
    "slideshow": {
     "slide_type": "slide"
    }
   },
   "source": [
    "### Second-order reaction (Type I)\n",
    "\n",
    "$$-\\frac{d[{\\rm A}]}{dt} = k_{eff}[{\\rm A}]^2$$\n",
    "* Solution:\n",
    "     $$\\int_{[{\\rm A}]_0}^{[{\\rm A}]} \\frac{d[{\\rm A}]}{[{\\rm A}]^2} = \\int_0^t k_{eff} dt$$\n",
    "     $$\\frac{1}{[{\\rm A}]} - \\frac{1}{[{\\rm A}]_0} = k_{eff}t$$\n",
    "     $$\\frac{1}{[{\\rm A}]} = \\frac{1}{[{\\rm A}]_0} + k_{eff}t$$"
   ]
  },
  {
   "cell_type": "markdown",
   "id": "a387a120",
   "metadata": {
    "slideshow": {
     "slide_type": "fragment"
    }
   },
   "source": [
    "* **Half-Life** ($t_{1/2}$):\n",
    "    * $t_{1/2} = \\frac{1}{k_{eff}[{\\rm A}]_0}$\n",
    "    * Depends on the initial concentration."
   ]
  },
  {
   "cell_type": "markdown",
   "id": "74952b0e",
   "metadata": {
    "slideshow": {
     "slide_type": "slide"
    }
   },
   "source": [
    "### Second-order reaction (Type I)\n",
    "$$\\frac{1}{[{\\rm A}]} = \\frac{1}{[{\\rm A}]_0} + k_{eff}t$$"
   ]
  },
  {
   "cell_type": "code",
   "execution_count": 2,
   "id": "e79e73cb-0ea1-4d55-bd8a-ce4fbdb2179c",
   "metadata": {
    "slideshow": {
     "slide_type": "fragment"
    }
   },
   "outputs": [
    {
     "data": {
      "application/vnd.jupyter.widget-view+json": {
       "model_id": "b649eadc76264d5bbfcf09f8680505f0",
       "version_major": 2,
       "version_minor": 0
      },
      "text/plain": [
       "interactive(children=(FloatSlider(value=0.21000000000000002, description='k', max=0.5, min=0.01, step=0.05), O…"
      ]
     },
     "metadata": {},
     "output_type": "display_data"
    }
   ],
   "source": [
    "functions.interactive_second_order_plot"
   ]
  },
  {
   "cell_type": "markdown",
   "id": "b4887035-3a83-49a0-9913-51ab8a356f58",
   "metadata": {
    "slideshow": {
     "slide_type": "slide"
    }
   },
   "source": [
    "### Second-order reaction (Type II)\n",
    "* Consider the following **elementary** reaction: ${\\rm A} + {\\rm B} \\xrightarrow{k} {\\rm P}$"
   ]
  },
  {
   "cell_type": "markdown",
   "id": "51143184",
   "metadata": {
    "slideshow": {
     "slide_type": "fragment"
    }
   },
   "source": [
    "* The rate is given by:\n",
    "$$R = -\\frac{d[{\\rm A}]}{dt} = -\\frac{d[{\\rm B}]}{dt}= k [{\\rm A}][{\\rm B}]$$\n",
    "* The loss rate of the reactants are equal:\n",
    "    $$ [{\\rm A}]_0 - [{\\rm A}] = [{\\rm B}]_0 - [{\\rm B}] $$\n",
    "    $$ [{\\rm B}]_0 - [{\\rm A}]_0 + [{\\rm A}] = [{\\rm B}] $$\n",
    "    $$ \\Delta + [{\\rm A}] = [{\\rm B}] $$\n",
    "* The above equation defines $[{\\rm B}]$ in terms of $[{\\rm A}]$ and the difference in the initial concentration $\\Delta$\n",
    "* The rate equation is given by the differential equation: $\\frac{d[{\\rm A}]}{dt} = -k[{\\rm A}][{\\rm B}] = -k [{\\rm A}](\\Delta + [{\\rm A}])$\n"
   ]
  },
  {
   "cell_type": "markdown",
   "id": "90f6982e",
   "metadata": {
    "slideshow": {
     "slide_type": "slide"
    }
   },
   "source": [
    "### Second-order reaction (Type II)\n",
    "\n",
    "* Solution:\n",
    "    $$ \\frac{d[{\\rm A}]}{dt} = -k [{\\rm A}][{\\rm B}] = -k [{\\rm A}](\\Delta + [{\\rm A}]) $$\n",
    "    $$ \\int_{[{\\rm A}]_0}^{[{\\rm A}]} \\frac{d[{\\rm A}]}{[{\\rm A}](\\Delta + [{\\rm A}])} = -\\int_0^t kdt$$\n",
    "    $$ -\\frac{1}{\\Delta} {\\rm ln}\\left(\\frac{\\Delta + [{\\rm A}]}{[{\\rm A}]}\\right) \\bigg|^{[{\\rm A}]}_{[{\\rm A}]_0} = -kt$$\n",
    "    $$\\frac{1}{\\Delta}\\left[{\\rm ln}\\left(\\frac{\\Delta + [{\\rm A}]}{[{\\rm A}]}\\right) - {\\rm ln}\\left(\\frac{\\Delta + [{\\rm A}]_0}{[{\\rm A}]_0}\\right)\\right] = kt $$\n",
    "    $$\\frac{1}{[{\\rm B}]_0 - [{\\rm A}]_0}\\left[{\\rm ln}\\left(\\frac{[{\\rm B}]}{[{\\rm A}]}\\right) - {\\rm ln}\\left(\\frac{[{\\rm B}]_0}{[{\\rm A}]_0}\\right)\\right] = kt $$\n",
    "    $$\\frac{1}{[{\\rm B}]_0 - [{\\rm A}]_0}{\\rm ln}\\left(\\frac{[{\\rm B}]/[{\\rm B}]_0}{[{\\rm A}]/[{\\rm A}]_0}\\right) = kt $$\n",
    "\n"
   ]
  },
  {
   "cell_type": "markdown",
   "id": "d4adb810",
   "metadata": {
    "slideshow": {
     "slide_type": "slide"
    }
   },
   "source": [
    "### Second-order reaction (Type II)\n",
    "\n",
    "* For second-order reaction (type II): $\\frac{1}{[{\\rm B}]_0 - [{\\rm A}]_0}{\\rm ln}\\left(\\frac{[{\\rm B}]/[{\\rm B}]_0}{[{\\rm A}]/[{\\rm A}]_0}\\right) = kt$\n",
    "* If $[{\\rm A}]_0 = [{\\rm B}]_0$ (i.e. $\\Delta=0$), the concentrations of $[{\\rm A}]$ and $[{\\rm B}]$ reduce to the expression for a second-order reaction of type I with $k_{eff} = k$.\n",
    "* **Half-Life** ($t_{1/2}$):\n",
    "    * Does not apply for second-order reactions of type II.\n",
    "    * $[{\\rm A}]$ and $[{\\rm B}]$ will not be half of their values at identical times unless $[{\\rm A}]_0 = [{\\rm B}]_0$."
   ]
  },
  {
   "cell_type": "markdown",
   "id": "526a2f0e",
   "metadata": {
    "slideshow": {
     "slide_type": "slide"
    }
   },
   "source": [
    "## Sequentional First-Order Reactions\n",
    "* Consider the elementary reactions: ${\\rm A} \\xrightarrow{k_A} {\\rm I} \\xrightarrow{k_I} {\\rm P}$, where ${\\rm I}$ is an intermediate."
   ]
  },
  {
   "cell_type": "markdown",
   "id": "e2bad5ea",
   "metadata": {
    "cell_style": "split",
    "slideshow": {
     "slide_type": "fragment"
    }
   },
   "source": [
    "* The rate expressions for these reactions can be given by:\n",
    "    * $\\frac{d[{\\rm A}]}{dt} = -k_A [{\\rm A}]$\n",
    "    * $\\frac{d[{\\rm I}]}{dt} = k_A [{\\rm A}] - k_I [{\\rm I}]$\n",
    "    * $\\frac{d[{\\rm P}]}{dt} = k_I [{\\rm I}]$\n",
    "* Assume that only ${\\rm A}$ is present at $t=0$:\n",
    "    * $[{\\rm A}]_0 \\neq 0$\n",
    "    * $[{\\rm I}]_0 = 0$\n",
    "    * $[{\\rm P}]_0 = 0$"
   ]
  },
  {
   "cell_type": "markdown",
   "id": "699e1994",
   "metadata": {
    "cell_style": "split",
    "slideshow": {
     "slide_type": "fragment"
    }
   },
   "source": [
    "* First, solve for $[{\\rm A}]$ (first order):\n",
    "    $$ [{\\rm A}] = [{\\rm A}]_0 e^{-kt}$$\n",
    "* Second, substitute this into the rate equation for ${\\rm I}$:\n",
    "\n",
    "$$\n",
    "\\begin{align}\n",
    "    \\frac{d[{\\rm I}]}{dt} &= k_A [{\\rm A}] - k_I [{\\rm I}] \\\\\n",
    "                          &= k_A [{\\rm A}]_0 e^{-kt} - k_I [{\\rm I}]\n",
    "\\end{align}\n",
    "$$\n",
    "\n",
    "* Solving this differential equation yields:\n",
    "    $$ [{\\rm I}] = \\frac{k_A}{k_I-k_A} \\left(e^{-k_A t} - e^{-k_I t} \\right)[{\\rm A}]_0\n",
    "    $$"
   ]
  },
  {
   "cell_type": "markdown",
   "id": "00df8093",
   "metadata": {
    "cell_style": "center",
    "slideshow": {
     "slide_type": "slide"
    }
   },
   "source": [
    "## Sequentional First-Order Reactions\n"
   ]
  },
  {
   "cell_type": "markdown",
   "id": "50fc12b8",
   "metadata": {
    "cell_style": "split",
    "slideshow": {
     "slide_type": "fragment"
    }
   },
   "source": [
    "* Finally, $[{\\rm P}]$ is determined using:\n",
    "    $$ [{\\rm A}]_0 = [{\\rm A}] + [{\\rm I}] + [{\\rm P}] $$\n",
    "    $$ [{\\rm P}] = [{\\rm A}]_0 - [{\\rm A}] - [{\\rm I}] $$\n",
    "* Substituting the expressions for $[{\\rm A}]$ and $[{\\rm I}]$,\n",
    "    $$ [{\\rm P}] = \\left( \\frac{k_A e^{-k_I t} - k_I e^{-k_A t}}{k_I - k_A} + 1 \n",
    "    \\right) [{\\rm A}]_0 $$\n",
    "    \n",
    "* Time of maximum intermediate concentration:\n",
    "    $$\\left(\\frac{d[{\\rm I}]}{dt}\\right)_{t=t_{max}} = 0 $$\n",
    "    $$t_{max} = \\frac{1}{k_A-k_I} {\\rm ln}\\left(\\frac{k_A}{k_I}\\right)$$"
   ]
  },
  {
   "cell_type": "code",
   "execution_count": 3,
   "id": "7d437ff5-2399-4490-9f42-4f5b8c280072",
   "metadata": {
    "cell_style": "split",
    "scrolled": false,
    "slideshow": {
     "slide_type": "fragment"
    }
   },
   "outputs": [
    {
     "data": {
      "application/vnd.jupyter.widget-view+json": {
       "model_id": "cbd980a7fcda465a8c676c98577e3b1e",
       "version_major": 2,
       "version_minor": 0
      },
      "text/plain": [
       "interactive(children=(FloatSlider(value=0.21000000000000002, description='ka', max=0.5, min=0.01, step=0.05), …"
      ]
     },
     "metadata": {},
     "output_type": "display_data"
    }
   ],
   "source": [
    "functions.interactive_sequential_first_order"
   ]
  },
  {
   "cell_type": "markdown",
   "id": "b6f93044",
   "metadata": {
    "slideshow": {
     "slide_type": "slide"
    }
   },
   "source": [
    "## Sequentional First-Order Reactions\n",
    "<img src=\"sequential_first_order.svg\" alt=\"Drawing\" width=\"100%;\"/>"
   ]
  },
  {
   "cell_type": "markdown",
   "id": "062836ce",
   "metadata": {
    "slideshow": {
     "slide_type": "slide"
    }
   },
   "source": [
    "## Sequential First-order Reactions\n",
    "\n",
    "<img src=\"sequential_first_order_question.svg\" alt=\"Drawing\" width=\"55%;\"/>"
   ]
  },
  {
   "cell_type": "markdown",
   "id": "6b343989",
   "metadata": {
    "slideshow": {
     "slide_type": "fragment"
    }
   },
   "source": [
    "<img src=\"sequential_first_order_answer.svg\" alt=\"Drawing\" width=\"55%;\"/>"
   ]
  },
  {
   "cell_type": "markdown",
   "id": "e20f07d3",
   "metadata": {
    "cell_style": "split",
    "slideshow": {
     "slide_type": "slide"
    }
   },
   "source": [
    "### Rate-Determining Step\n",
    "* For sequential first-order reactions, there are two limits:\n",
    "    * $k_I \\gg k_A$: Intermediate immediately consumed\n",
    "    * $k_A \\gg k_I$: Reactant immediately consumed\n",
    "* If one step in the sequential reaction is much slower than any other step, the slow step will control the rate of product formation and is therefore the rate-determining step"
   ]
  },
  {
   "cell_type": "code",
   "execution_count": 4,
   "id": "daf12a77",
   "metadata": {
    "cell_style": "split",
    "scrolled": false,
    "slideshow": {
     "slide_type": "fragment"
    }
   },
   "outputs": [
    {
     "data": {
      "application/vnd.jupyter.widget-view+json": {
       "model_id": "cbd980a7fcda465a8c676c98577e3b1e",
       "version_major": 2,
       "version_minor": 0
      },
      "text/plain": [
       "interactive(children=(FloatSlider(value=0.21000000000000002, description='ka', max=0.5, min=0.01, step=0.05), …"
      ]
     },
     "metadata": {},
     "output_type": "display_data"
    }
   ],
   "source": [
    "import functions\n",
    "functions.interactive_sequential_first_order"
   ]
  },
  {
   "cell_type": "markdown",
   "id": "b3072070",
   "metadata": {
    "slideshow": {
     "slide_type": "slide"
    }
   },
   "source": [
    "### Rate-Determining Step\n",
    "* $k_I \\gg k_A$: Intermediate immediately consumed\n",
    "\n",
    "    $$ \\lim_{k_I \\gg k_A} [{\\rm P}] = \\lim_{k_I \\gg k_A} \\left( \\left( \\frac{k_A e^{-k_I t} - k_I e^{-k_A t}}{k_I - k_A} + 1 \n",
    "    \\right) [{\\rm A}]_0 \\right) = \\left(1-e^{-k_A t}\\right) [{\\rm A}]_0$$     "
   ]
  },
  {
   "cell_type": "markdown",
   "id": "5db2174d",
   "metadata": {
    "slideshow": {
     "slide_type": "fragment"
    }
   },
   "source": [
    "* $k_A \\gg k_I$: Reactant immediately consumed\n",
    "    $$ \\lim_{k_A \\gg k_I} [{\\rm P}] = \\lim_{k_A \\gg k_I} \\left( \\left( \\frac{k_A e^{-k_I t} - k_I e^{-k_A t}}{k_I - k_A} + 1 \n",
    "    \\right) [{\\rm A}]_0 \\right) = \\left(1-e^{-k_I t}\\right) [{\\rm A}]_0$$ "
   ]
  },
  {
   "cell_type": "markdown",
   "id": "f434055b",
   "metadata": {
    "slideshow": {
     "slide_type": "slide"
    }
   },
   "source": [
    "### When is the rate-determining step approximation appropriate?\n",
    "\n",
    "* Around 20-fold difference between $k_A$ and $k_I$\n",
    "* Compare purple (exact; sequential rate) and red (approximate; rate-determining) curves\n",
    "<img src=\"rate_determining_step.svg\" alt=\"Drawing\" width=\"60%;\"/>"
   ]
  },
  {
   "cell_type": "markdown",
   "id": "94656a7c",
   "metadata": {
    "slideshow": {
     "slide_type": "slide"
    }
   },
   "source": [
    "### The Steady-State Approximation\n",
    "\n",
    "* Consider the reaction: ${\\rm A} \\xrightarrow{k_A} {\\rm I_1} \\xrightarrow{k_1} {\\rm I_2} \\xrightarrow{k_2} {\\rm P}$"
   ]
  },
  {
   "cell_type": "markdown",
   "id": "f2fcd1d2",
   "metadata": {
    "cell_style": "split",
    "slideshow": {
     "slide_type": "fragment"
    }
   },
   "source": [
    "* The rate expressions for these reactions can be given by:\n",
    "    * $ \\frac{d[{\\rm A}]}{dt} = -k_A [{\\rm A}] $\n",
    "    * $ \\frac{d[{\\rm I_1}]}{dt} = k_A [{\\rm A}] - k_1 [{\\rm I_1}]$\n",
    "    * $ \\frac{d[{\\rm I_2}]}{dt} = k_1 [{\\rm I_1}] - k_2 [{\\rm I_2}]$\n",
    "    * $ \\frac{d[{\\rm P}]}{dt} = k_2 [{\\rm I_2}] $\n",
    "* $[{\\rm I_1}]$ and $[{\\rm I_2}]$ change little overtime.\n",
    "* **Steady-state approximation**: $\\frac{d[{\\rm I}]}{dt} = 0 $\n",
    "* Appropriate when the decay rate of intermediates is greater than the rate of production"
   ]
  },
  {
   "cell_type": "markdown",
   "id": "3c0a20cf",
   "metadata": {
    "cell_style": "split",
    "slideshow": {
     "slide_type": "-"
    }
   },
   "source": [
    "* Numerical solution:\n",
    "<img src=\"steady_state.svg\" alt=\"Drawing\" width=\"70%;\"/>"
   ]
  },
  {
   "cell_type": "markdown",
   "id": "a2301315",
   "metadata": {
    "slideshow": {
     "slide_type": "slide"
    }
   },
   "source": [
    "### The Steady-State Approximation: Intermediate Rates = Zero"
   ]
  },
  {
   "cell_type": "markdown",
   "id": "16577149",
   "metadata": {
    "cell_style": "split",
    "slideshow": {
     "slide_type": "fragment"
    }
   },
   "source": [
    " * At $t=0$, only $\\rm A$ is present\n",
    " * For $I_1$, \n",
    "    $$\\frac{d[{\\rm I_1}]_{ss}}{dt} = k_A [{\\rm A}] - k_1 [{\\rm I_1}]_{ss} = 0$$\n",
    "    $$[{\\rm I_1}]_{ss} = \\frac{k_A}{k_1} [{\\rm A}] = \\frac{k_A}{k_1} [{\\rm A}]_0 e^{-k_A t}$$\n",
    " * For $I_2$,\n",
    "    $$ \\frac{d[{\\rm I_2}]_{ss}}{dt} = k_1 [{\\rm I_1}]_{ss} - k_2 [{\\rm I_2}]_{ss} = 0$$\n",
    "    $$[{\\rm I_2}]_{ss} = \\frac{k_1}{k_2} [{\\rm I_1}]_{ss} = \\frac{k_A}{k_2} [{\\rm A}]_0 e^{-k_A t} $$\n"
   ]
  },
  {
   "cell_type": "markdown",
   "id": "e1c54d07",
   "metadata": {
    "cell_style": "split",
    "slideshow": {
     "slide_type": "fragment"
    }
   },
   "source": [
    " * For $\\rm P$,\n",
    "     $$ \\frac{d[{\\rm P}]_{ss}}{dt} = k_2 [{\\rm I_2}] = k_A [{\\rm A}]_0 e^{-k_A t} $$\n",
    "     $$ [{\\rm P}]_{ss} = [{\\rm A}]_0 \\left (1 - e^{-k_A t} \\right) $$\n",
    " * Production rate demonstrates first-order decay of $\\rm A$"
   ]
  },
  {
   "cell_type": "markdown",
   "id": "f5669732",
   "metadata": {
    "cell_style": "center",
    "slideshow": {
     "slide_type": "slide"
    }
   },
   "source": [
    "### When is the Steady-State Approximation Valid?\n"
   ]
  },
  {
   "cell_type": "markdown",
   "id": "75f56add",
   "metadata": {
    "cell_style": "split",
    "slideshow": {
     "slide_type": "fragment"
    }
   },
   "source": [
    "* When the concentration of intermediates is constant with time\n",
    "* For $I_1$,\n",
    "    $$\\frac{d[{\\rm I_1}]_{ss}}{dt} = \\frac{d}{dt} \\left (\\frac{k_A}{k_1} [{\\rm A}]_0 e^{-k_A t} \\right) = -\\frac{k_A^2}{k_1} [{\\rm A}]_0 e^{-k_A t} $$\n",
    "* The steady-state approximation is valid when $\\frac{d[{\\rm I_1}]_{ss}}{dt}=0$, or ${k_1} \\gg k_A^2 [{\\rm A}]_0$\n",
    "* $k_1$ must be sufficiently large such that $[{\\rm I_1}]$ is small at all times"
   ]
  },
  {
   "cell_type": "markdown",
   "id": "ccfd7987",
   "metadata": {
    "cell_style": "split",
    "slideshow": {
     "slide_type": "fragment"
    }
   },
   "source": [
    "* Numerical solution vs steady-state for $k_A = 0.02 {\\rm s}^{-1}$ and $k_1 = k_2 = 0.2 {\\rm s}^{-1}$\n",
    "<img src=\"steady_state_comparison.svg\" alt=\"Drawing\" width=\"70%;\"/>"
   ]
  },
  {
   "cell_type": "markdown",
   "id": "04dfefcb",
   "metadata": {
    "cell_style": "center",
    "slideshow": {
     "slide_type": "slide"
    }
   },
   "source": [
    "### The Steady-State Approximation"
   ]
  },
  {
   "cell_type": "markdown",
   "id": "7516a128",
   "metadata": {
    "cell_style": "split",
    "slideshow": {
     "slide_type": "-"
    }
   },
   "source": [
    "<img src=\"steady_state_question.svg\" alt=\"Drawing\" width=\"100%;\"/>\n",
    "<img src=\"steady_state_answer1.svg\" alt=\"Drawing\" width=\"100%;\"/>"
   ]
  },
  {
   "cell_type": "markdown",
   "id": "e5b37710",
   "metadata": {
    "cell_style": "split",
    "slideshow": {
     "slide_type": "fragment"
    }
   },
   "source": [
    "<img src=\"steady_state_answer2.svg\" alt=\"Drawing\" width=\"100%;\"/>"
   ]
  },
  {
   "cell_type": "markdown",
   "id": "4e54c05f",
   "metadata": {
    "cell_style": "split",
    "slideshow": {
     "slide_type": "slide"
    }
   },
   "source": [
    "## Parallel Reactions\n",
    "* **Parallel Reactions**:\n",
    "<img src=\"parallel_reaction_scheme.png\" alt=\"Drawing\" width=\"20%;\"/>\n",
    "\n",
    "* Rate expressions:\n",
    "    * $ \\frac{d[{\\rm A}]}{dt} = -k_B [{\\rm A}] -k_c [{\\rm A}] $\n",
    "      $ = - \\left(k_B + k_C \\right) [{\\rm A}]$\n",
    "    * $ \\frac{d[{\\rm B}]}{dt} = k_B [{\\rm A}] $\n",
    "    * $ \\frac{d[{\\rm C}]}{dt} = k_C [{\\rm A}] $"
   ]
  },
  {
   "cell_type": "markdown",
   "id": "6e9889fd",
   "metadata": {
    "cell_style": "split",
    "slideshow": {
     "slide_type": "fragment"
    }
   },
   "source": [
    "* Solution:\n",
    "    * $[{\\rm A}] = [{\\rm A}]_0 e^{-(k_B + k_C)t}$\n",
    "    * $[{\\rm B}] = \\frac{k_B}{k_B + k_C} [{\\rm A}]_0(1-e^{-(k_B + k_C) t})$\n",
    "    * $[{\\rm C}] = \\frac{k_C}{k_B + k_C} [{\\rm A}]_0(1-e^{-(k_B + k_C) t})$\n",
    "\n",
    "<img src=\"parallel_reaction.svg\" alt=\"Drawing\" width=\"60%;\"/>\n"
   ]
  },
  {
   "cell_type": "markdown",
   "id": "cc3c0445",
   "metadata": {
    "slideshow": {
     "slide_type": "slide"
    }
   },
   "source": [
    "## Parallel Reactions"
   ]
  },
  {
   "cell_type": "markdown",
   "id": "bfad9a21",
   "metadata": {
    "cell_style": "split",
    "slideshow": {
     "slide_type": "fragment"
    }
   },
   "source": [
    "* Trends:\n",
    "    * Decay of $\\rm A$ with an apparent rate of $k_B + k_C$\n",
    "    * Ratio of product concentration independent of time\n",
    "    $$ \\frac{[{\\rm B}]}{[{\\rm C}]} = \\frac{k_B}{k_C}$$\n",
    "    \n",
    "* **Yield** ($\\Phi$): The probability that a given product will be formed by decay of the reactant\n",
    "$$ \\Phi_i = \\frac{k_i}{\\sum_n k_n}$$\n",
    "$$ \\sum_i \\Phi_i = 1 $$"
   ]
  },
  {
   "cell_type": "markdown",
   "id": "b197cc2a",
   "metadata": {
    "cell_style": "split",
    "slideshow": {
     "slide_type": "-"
    }
   },
   "source": [
    "* Example for $k_B = 2k_C = 0.1 \\,{\\rm s}^{-1}$\n",
    "    * $\\Phi_C = \\frac{k_C}{k_B + k_C} = \\frac{k_C}{(2k_C) + k_C} = \\frac{1}{3}$\n",
    "<img src=\"parallel_reaction.svg\" alt=\"Drawing\" width=\"80%;\"/>"
   ]
  },
  {
   "cell_type": "markdown",
   "id": "96ffccda",
   "metadata": {
    "slideshow": {
     "slide_type": "slide"
    }
   },
   "source": [
    "## Parallel Reactions"
   ]
  },
  {
   "cell_type": "markdown",
   "id": "5cc7e2c2",
   "metadata": {
    "cell_style": "split",
    "slideshow": {
     "slide_type": "-"
    }
   },
   "source": [
    "<img src=\"parallel_reaction_question.svg\" alt=\"Drawing\" width=\"100%;\"/>"
   ]
  },
  {
   "cell_type": "markdown",
   "id": "44fec651",
   "metadata": {
    "cell_style": "split",
    "slideshow": {
     "slide_type": "fragment"
    }
   },
   "source": [
    "<img src=\"parallel_reaction_answer.svg\" alt=\"Drawing\" width=\"100%;\"/>"
   ]
  },
  {
   "cell_type": "markdown",
   "id": "0e5d6fef",
   "metadata": {
    "cell_style": "split",
    "slideshow": {
     "slide_type": "slide"
    }
   },
   "source": [
    "## Temperature Dependence of Rate Constants\n",
    "* Empirical **Arrhenius expression**:\n",
    " $$ k = Ae^{-E_a/RT} $$\n",
    " $$ {\\rm ln}(k) = {\\rm ln}(A) - \\frac{E_a}{R} \\frac{1}{T} $$\n",
    "    * $A$: **Preexponential factor**, same units as $k$\n",
    "    * $E_a$: **Activation Energy**\n",
    "\n",
    "<img src=\"arrhenius_question.svg\" alt=\"Drawing\" width=\"80%;\"/>"
   ]
  },
  {
   "cell_type": "markdown",
   "id": "5a1bb582",
   "metadata": {
    "cell_style": "split",
    "slideshow": {
     "slide_type": "fragment"
    }
   },
   "source": [
    "<img src=\"arrhenius_answer.svg\" alt=\"Drawing\" width=\"100%;\"/>"
   ]
  },
  {
   "cell_type": "markdown",
   "id": "33c16890",
   "metadata": {
    "cell_style": "split",
    "slideshow": {
     "slide_type": "slide"
    }
   },
   "source": [
    "### Arrhenius Expression\n",
    "* $ k = Ae^{-E_a/RT} $\n",
    "* Activation energy: Energy needed for the chemical reaction to occur\n",
    "* The number of molecules with translational energy greater than $E_a$ increases with temperature\n",
    "* Fails when $E_a$ or $A$ are temperature-dependent\n",
    "* Better expression: $k = aT^m e^{-E^\\prime/RT}$\n",
    "    * $a$ and $E^\\prime$ are temperature-independent"
   ]
  },
  {
   "cell_type": "markdown",
   "id": "cea78a06",
   "metadata": {
    "cell_style": "split",
    "slideshow": {
     "slide_type": "-"
    }
   },
   "source": [
    "<img src=\"arrhenius_plot.svg\" alt=\"Drawing\" width=\"100%;\"/>"
   ]
  },
  {
   "cell_type": "markdown",
   "id": "4f46b3cd",
   "metadata": {
    "cell_style": "center",
    "slideshow": {
     "slide_type": "slide"
    }
   },
   "source": [
    "## Reversible Reactions and Equilibrium"
   ]
  },
  {
   "cell_type": "markdown",
   "id": "04e25c6e",
   "metadata": {
    "cell_style": "split",
    "slideshow": {
     "slide_type": "-"
    }
   },
   "source": [
    "* Both directions of the reaction can be accessible\n",
    "* **Reversible reactions**\n",
    "$$A \\underset{k_B}{\\stackrel{k_A}{\\rightleftharpoons}} B$$\n",
    "* Rate laws:\n",
    "$$ \\frac{d[{\\rm A}]}{dt} = -k_A [{\\rm A}] + k_B [{\\rm B}] $$\n",
    "$$ \\frac{d[{\\rm B}]}{dt} = k_A [{\\rm A}] - k_B [{\\rm B}] $$"
   ]
  },
  {
   "cell_type": "markdown",
   "id": "e4710daf",
   "metadata": {
    "cell_style": "split",
    "slideshow": {
     "slide_type": "-"
    }
   },
   "source": [
    "<img src=\"reversible_reactions.svg\" alt=\"Drawing\" width=\"100%;\"/>"
   ]
  },
  {
   "cell_type": "markdown",
   "id": "8104a937",
   "metadata": {
    "cell_style": "center",
    "slideshow": {
     "slide_type": "slide"
    }
   },
   "source": [
    "## Reversible Reactions and Equilibrium\n",
    "* At $t=0$, $[{\\rm A}]=[{\\rm A}]_0$ and $[{\\rm B}]=0$ or $ [{\\rm A}]_0 = [{\\rm A}] + [{\\rm B}] $\n",
    "* Solution:\n",
    "$$\n",
    "\\begin{align}\n",
    "\\frac{d[{\\rm A}]}{dt} &= -k_A [{\\rm A}] + k_B [{\\rm B}] \\\\ \n",
    "                      &= -k_A [{\\rm A}] + k_B ([{\\rm A}]_0 - [{\\rm A}]) \\\\\n",
    "                      &= -[{\\rm A}] (k_A + k_B) + k_B [{\\rm A}]_0\n",
    "\\end{align}\n",
    "$$\n",
    "$$\\int_{[{\\rm A}]_0}^{[{\\rm A}]} \\frac{d[{\\rm A}]}{[{\\rm A}] (k_A + k_B) - k_B [{\\rm A}]_0} = -\\int_0^t dt\n",
    "$$\n",
    "$$ [{\\rm A}] = [{\\rm A}]_0 \\frac{k_B + k_A e^{-(k_A+k_B)t}}{k_A + k_B}$$\n",
    "$$ [{\\rm B}] = [{\\rm A}]_0 \\left (1-\\frac{k_B + k_A e^{-(k_A+k_B)t}}{k_A + k_B} \\right)$$"
   ]
  },
  {
   "cell_type": "markdown",
   "id": "d1f9c0ae",
   "metadata": {
    "cell_style": "split",
    "slideshow": {
     "slide_type": "slide"
    }
   },
   "source": [
    "### Equilibrium\n",
    "$$ [{\\rm A}] = [{\\rm A}]_0 \\frac{k_B + k_A e^{-(k_A+k_B)t}}{k_A + k_B}$$\n",
    "$$ [{\\rm B}] = [{\\rm A}]_0 \\left (1-\\frac{k_B + k_A e^{-(k_A+k_B)t}}{k_A + k_B} \\right)$$\n",
    "* Equilibrium concentrations reached after long time:\n",
    "$$[{\\rm A}]_{eq} = \\lim_{t \\to \\infty} [{\\rm A}] = [{\\rm A}]_0 \\frac{k_B}{k_A + k_B}$$\n",
    "\n",
    "$$[{\\rm B}]_{eq} = \\lim_{t \\to \\infty} [{\\rm B}] = [{\\rm A}]_0 \\left ( 1- \\frac{k_B}{k_A + k_B} \\right )$$"
   ]
  },
  {
   "cell_type": "markdown",
   "id": "34c5c8eb",
   "metadata": {
    "cell_style": "split",
    "slideshow": {
     "slide_type": "fragment"
    }
   },
   "source": [
    "* At equilibrium,\n",
    " $$\\frac{d[{\\rm A}]_{eq}}{dt} = \\frac{d[{\\rm B}]_{eq}}{dt} = 0 $$\n",
    "* Forward and backward reaction rates are equal\n",
    "* Example for $k_A = 2 k_B = 0.06 \\,{\\rm s}^{-1}$\n",
    "<img src=\"reversible_reaction_rates.svg\" alt=\"Drawing\" width=\"60%;\"/>"
   ]
  },
  {
   "cell_type": "markdown",
   "id": "8cc5aa72",
   "metadata": {
    "cell_style": "center",
    "slideshow": {
     "slide_type": "slide"
    }
   },
   "source": [
    "### Equilibrium Constant\n"
   ]
  },
  {
   "cell_type": "markdown",
   "id": "75dd91c7",
   "metadata": {
    "cell_style": "split",
    "slideshow": {
     "slide_type": "fragment"
    }
   },
   "source": [
    "$$\\frac{d[{\\rm A}]_{eq}}{dt} = \\frac{d[{\\rm B}]_{eq}}{dt} = 0  = -k_A [{\\rm A}] + k_B [{\\rm B}] $$\n",
    "$$ \\frac{k_A}{k_B} = \\frac{[{\\rm B}]_{eq}}{[{\\rm A}]_{eq}} = K_c$$"
   ]
  },
  {
   "cell_type": "markdown",
   "id": "1731d69a",
   "metadata": {
    "cell_style": "split",
    "slideshow": {
     "slide_type": "fragment"
    }
   },
   "source": [
    "* Two equations and two unknowns\n",
    "<img src=\"equilibrium_constant.svg\" alt=\"Drawing\" width=\"100%;\"/>"
   ]
  },
  {
   "cell_type": "markdown",
   "id": "4fdf639b",
   "metadata": {
    "slideshow": {
     "slide_type": "slide"
    }
   },
   "source": [
    "### Equilbrium Question"
   ]
  },
  {
   "cell_type": "markdown",
   "id": "880ee0a9",
   "metadata": {
    "cell_style": "split",
    "slideshow": {
     "slide_type": "-"
    }
   },
   "source": [
    "<img src=\"equilibrium_question.svg\" alt=\"Drawing\" width=\"100%;\"/>"
   ]
  },
  {
   "cell_type": "markdown",
   "id": "d489810d",
   "metadata": {
    "cell_style": "split",
    "slideshow": {
     "slide_type": "fragment"
    }
   },
   "source": [
    "<img src=\"equilibrium_answer.svg\" alt=\"Drawing\" width=\"100%;\"/>"
   ]
  },
  {
   "cell_type": "markdown",
   "id": "7eff2426",
   "metadata": {
    "cell_style": "center",
    "slideshow": {
     "slide_type": "slide"
    }
   },
   "source": [
    "## Potential Energy Surfaces"
   ]
  },
  {
   "cell_type": "markdown",
   "id": "49ecd409",
   "metadata": {
    "cell_style": "split",
    "slideshow": {
     "slide_type": "fragment"
    }
   },
   "source": [
    "* **Potential Energy Surface**: The variation of the potential energy with a change along a reaction coordinate.\n",
    "* A 1D example:\n",
    "\n",
    "<img src=\"reversible_reactions.svg\" alt=\"Drawing\" width=\"100%;\"/>"
   ]
  },
  {
   "cell_type": "markdown",
   "id": "c434697f",
   "metadata": {
    "cell_style": "split",
    "slideshow": {
     "slide_type": "fragment"
    }
   },
   "source": [
    "* Now consider the bimolecular reaction:\n",
    "$${\\rm AB}+ {\\rm C} \\rightarrow {\\rm A} + {\\rm BC}$$\n",
    "<img src=\"reaction_coordinates.svg\" alt=\"Drawing\" width=\"60%;\"/>\n",
    "* Assume $\\theta=180^\\circ$ for simplicity\n",
    "* Now we have two independet variables, $R_{AB}$ and $R_{BC}$, and one dependent variable, $E(R_{AB}, R_{BC})$"
   ]
  },
  {
   "cell_type": "markdown",
   "id": "da5d04ca",
   "metadata": {
    "cell_style": "split",
    "slideshow": {
     "slide_type": "slide"
    }
   },
   "source": [
    "## Potential Energy Surfaces\n",
    "$${\\rm AB}+ {\\rm C} \\rightarrow {\\rm A} + {\\rm BC}$$\n",
    "\n",
    "<img src=\"potential_energy_surface1.svg\" alt=\"Drawing\" width=\"120%;\"/>"
   ]
  },
  {
   "cell_type": "markdown",
   "id": "2a07e128",
   "metadata": {
    "cell_style": "split",
    "slideshow": {
     "slide_type": "fragment"
    }
   },
   "source": [
    "<img src=\"potential_energy_surface2.svg\" alt=\"Drawing\" width=\"70%;\"/>"
   ]
  },
  {
   "cell_type": "markdown",
   "id": "921be61e",
   "metadata": {
    "cell_style": "center",
    "slideshow": {
     "slide_type": "slide"
    }
   },
   "source": [
    "### Activated Complex"
   ]
  },
  {
   "cell_type": "markdown",
   "id": "84bedd7b",
   "metadata": {
    "cell_style": "split",
    "slideshow": {
     "slide_type": "-"
    }
   },
   "source": [
    "* **Transition State**: The maximum in energy along a reaction pathway\n",
    "    * Indicated by the double dagger symbol ($\\ddagger$)\n",
    "\n",
    "<img src=\"potential_energy_contour.svg\" alt=\"Drawing\" width=\"80%;\"/>"
   ]
  },
  {
   "cell_type": "markdown",
   "id": "e22e1973",
   "metadata": {
    "cell_style": "split",
    "slideshow": {
     "slide_type": "fragment"
    }
   },
   "source": [
    "* Below is the curved dashed line in the contour\n",
    "* (ABC$^\\ddagger$) is the **activated complex**\n",
    "* The activated complex is not stable\n",
    "    * Lifetime: A few vibration periods ($\\sim 10^{-14}\\, {\\rm s}$)\n",
    "    \n",
    "<img src=\"activated_complex.svg\" alt=\"Drawing\" width=\"90%;\"/>"
   ]
  },
  {
   "cell_type": "markdown",
   "id": "7ffb622c",
   "metadata": {
    "slideshow": {
     "slide_type": "slide"
    }
   },
   "source": [
    "## Transition State Theory: Assumptions"
   ]
  },
  {
   "cell_type": "markdown",
   "id": "002627da",
   "metadata": {
    "cell_style": "split",
    "slideshow": {
     "slide_type": "-"
    }
   },
   "source": [
    "* Equilibrium exists between the reactants and the activated complex\n",
    "* The reaction coordinate describing decomposition of the activated complex can be mapped onto a single energetic degree of freedom of the activated complex\n",
    "* Example: If product formation involves the breaking of a bond, then the vibrational degree of freedom corresponding to bond stretching is taken to be the reactive coordinate"
   ]
  },
  {
   "cell_type": "markdown",
   "id": "f2976348",
   "metadata": {
    "cell_style": "split",
    "slideshow": {
     "slide_type": "-"
    }
   },
   "source": [
    "$${\\rm A} + {\\rm B} \\rightarrow {\\rm P}$$\n",
    "<img src=\"activated_complex_theory.svg\" alt=\"Drawing\" width=\"100%;\"/>"
   ]
  },
  {
   "cell_type": "markdown",
   "id": "cbee4d40",
   "metadata": {
    "cell_style": "center",
    "slideshow": {
     "slide_type": "slide"
    }
   },
   "source": [
    "## Transition State Theory: Kinetic Description"
   ]
  },
  {
   "cell_type": "markdown",
   "id": "c335c082",
   "metadata": {
    "cell_style": "split",
    "slideshow": {
     "slide_type": "-"
    }
   },
   "source": [
    "\n",
    "$${\\rm A} + {\\rm B} \\underset{k_{-1}}{\\stackrel{k_1}{\\rightleftharpoons}} {\\rm AB}^\\ddagger$$\n",
    "$${\\rm AB}^\\ddagger \\xrightarrow{k_2} {\\rm P}$$\n",
    "* Given the equilibrium between the reactants and the activated complex,\n",
    "$$ \\frac{d[{\\rm A}]}{dt} = 0 = -k_1 [{\\rm A}] [{\\rm B}] + k_{-1} [{\\rm AB}^\\ddagger]$$\n",
    "$$ [{\\rm AB}^\\ddagger] = \\frac{k_1}{k_{-1}} [{\\rm A}] [{\\rm B}] = \\frac{K_c^\\ddagger}{c^\\circ}[{\\rm A}] [{\\rm B}] $$\n"
   ]
  },
  {
   "cell_type": "markdown",
   "id": "5857507e",
   "metadata": {
    "cell_style": "split",
    "slideshow": {
     "slide_type": "-"
    }
   },
   "source": [
    "* $K_c^\\ddagger$ is the equilibrium constant involving the reactants and the activated complex\n",
    "* $c^\\circ$ is the standard state concentration (1 $\\rm M$), coming from:\n",
    "$$ K_c^\\ddagger = \\frac{[{\\rm AB}^\\ddagger]/c^\\circ}{([{\\rm A}]/c^\\circ)([{\\rm B}]/c^\\circ)} = \\frac{[{\\rm AB}^\\ddagger] c^\\circ}{[{\\rm A}] [{\\rm B}]} $$\n",
    "\n",
    "* Rate of product formation:\n",
    "\n",
    "$$\n",
    "\\begin{align}\n",
    "R = \\frac{d[{\\rm P}]}{dt} &= k_2 [{\\rm AB}^\\ddagger] \\\\\n",
    "                          &= \\frac{k_2 K_c^\\ddagger}{c^\\circ} [{\\rm A}] [{\\rm B}]\n",
    "\\end{align}\n",
    "$$"
   ]
  },
  {
   "cell_type": "markdown",
   "id": "2631cbe6",
   "metadata": {
    "slideshow": {
     "slide_type": "slide"
    }
   },
   "source": [
    "## Transition State Theory: Kinetic Description\n"
   ]
  },
  {
   "cell_type": "markdown",
   "id": "625bb71e",
   "metadata": {
    "cell_style": "split",
    "slideshow": {
     "slide_type": "-"
    }
   },
   "source": [
    "$$R = \\frac{k_2 K_c^\\ddagger}{c^\\circ} [{\\rm A}] [{\\rm B}]$$\n",
    "\n",
    "* $k_2$ is associated with the rate of activated complex decay\n",
    "    * For bond-breaking reactions, it is related to the vibrational frequency associated with bond stretching, $\\nu$\n",
    "    * $k_2 = \\kappa \\nu$ \n",
    "    * $\\kappa$: Transmission coefficient\n",
    "    * Accounts for the possibility that the activated complex reverts to the reactants"
   ]
  },
  {
   "cell_type": "markdown",
   "id": "d00f4d3c",
   "metadata": {
    "cell_style": "split",
    "slideshow": {
     "slide_type": "fragment"
    }
   },
   "source": [
    "$$R = \\frac{\\kappa \\nu K_c^\\ddagger}{c^\\circ} [{\\rm A}] [{\\rm B}]$$\n",
    "\n",
    "* $K_c^\\ddagger$ can be expressed in terms of the partition function\n",
    "$$ K_c^\\ddagger = q_{rc} \\bar K_c^\\ddagger  = \\frac{k_B T}{h \\nu} \\bar K_c^\\ddagger$$\n",
    "* $q_{rc}$: The partition function associated with with the energetic degree of freedom of the reactive coordinate\n",
    "* Finally,\n",
    "$$k = \\kappa \\frac{k_B T}{h c^\\circ} \\bar K_c^\\ddagger$$"
   ]
  },
  {
   "cell_type": "markdown",
   "id": "b6842d07",
   "metadata": {
    "cell_style": "center",
    "slideshow": {
     "slide_type": "slide"
    }
   },
   "source": [
    "## Transition State Theory: Thermodynamics"
   ]
  },
  {
   "cell_type": "markdown",
   "id": "5798137b",
   "metadata": {
    "cell_style": "split",
    "slideshow": {
     "slide_type": "fragment"
    }
   },
   "source": [
    "$$k = \\kappa \\frac{k_B T}{h c^\\circ} \\bar K_c^\\ddagger$$\n",
    "* Provides a connection between the rate constant for product formation and the molecular parameters for species involved in the reaction\n",
    "* From thermodynamics,\n",
    "$$\\Delta G^\\ddagger = - RT {\\rm ln}  K_c^\\ddagger$$\n",
    "* $\\Delta G^\\ddagger$ is the difference in Gibbs energy between the transition state and reactants"
   ]
  },
  {
   "cell_type": "markdown",
   "id": "82bfd277",
   "metadata": {
    "cell_style": "split",
    "slideshow": {
     "slide_type": "fragment"
    }
   },
   "source": [
    "* Setting $\\kappa=1$ for convenience,\n",
    "$$ k = \\frac{k_B T}{h c^\\circ} e^{-\\Delta G^\\ddagger /RT} $$\n",
    "* Also from thermodynamics,\n",
    "$$ \\Delta G^\\ddagger = \\Delta H^\\ddagger - T \\Delta S^\\ddagger $$\n",
    "* Thus, $k$ can be written as:\n",
    "$$k = \\frac{k_B T}{h c^\\circ} e^{\\Delta S^\\ddagger /R} e^{-\\Delta H^\\ddagger /RT} $$\n",
    "* This is called **Eyring equation**\n",
    "* Temperature dependenet unlike Arrhenius expression"
   ]
  },
  {
   "cell_type": "markdown",
   "id": "0bcedf6a",
   "metadata": {
    "slideshow": {
     "slide_type": "slide"
    }
   },
   "source": [
    "## Transition State Theory: Thermodynamics\n"
   ]
  },
  {
   "cell_type": "markdown",
   "id": "e22d8c80",
   "metadata": {
    "cell_style": "split",
    "slideshow": {
     "slide_type": "-"
    }
   },
   "source": [
    "* Rewriting the Arrhenius expression:\n",
    "$$ k = Ae^{-E_a/RT} $$\n",
    "$$ E_a = RT^2\\left ( \\frac{d {\\rm ln} k}{dT}\\right) $$\n",
    "* Substituting for $k$,\n",
    "$$\n",
    "\\begin{align}\n",
    "E_a &= RT^2 \\left( \\frac{d}{dT} {\\rm ln} \\left(\\frac{k_B T}{h c^\\circ} \\bar K_c^\\ddagger \\right) \\right) \\\\\n",
    "       &= RT + RT^2 \\left(\\frac{d {\\rm ln} \\bar K_c^\\ddagger}{dT} \\right)\n",
    "\\end{align}\n",
    "$$\n",
    "* From thermodynamics, $\\frac{d {\\rm ln} K_c}{dT} = \\frac{\\Delta U}{RT^2}$,\n",
    "* Thus, we get\n",
    "$$ E_a = RT + \\Delta U^\\ddagger$$\n"
   ]
  },
  {
   "cell_type": "markdown",
   "id": "e370f1c2",
   "metadata": {
    "cell_style": "split",
    "slideshow": {
     "slide_type": "fragment"
    }
   },
   "source": [
    "* Also from thermodynamics, $H = U+PV$\n",
    "$$ \\Delta U^\\ddagger = \\Delta H^\\ddagger - \\Delta (PV)^\\ddagger $$\n",
    "* $(PV)^\\ddagger$ is related to the difference in the product $PV$ with respect to the activated complex and reactants ($\\sim 0$ for solutions)\n",
    "$$ E_a = \\Delta H^\\ddagger + RT \\qquad ({\\rm solutions}) $$"
   ]
  },
  {
   "cell_type": "markdown",
   "id": "38a9a15b",
   "metadata": {
    "slideshow": {
     "slide_type": "slide"
    }
   },
   "source": [
    "## Transition State Theory: Solution Phase\n",
    "* Given $ E_a = \\Delta H^\\ddagger + RT \\qquad ({\\rm solutions}) $\n",
    "* Now comparing with the Arrhenius expression,\n",
    "$$ k = Ae^{-E_a/RT} $$\n",
    "$$k = \\frac{k_B T}{h c^\\circ} e^{\\Delta S^\\ddagger /R} e^{-\\Delta H^\\ddagger /RT} $$\n",
    "* Thus, the preexponenial factor $A$ is\n",
    "$$ A = \\frac{e k_B T}{h c^\\circ} e^{\\Delta S^\\ddagger /R} \\qquad ({\\rm solutions, bimolecular})$$\n",
    "$$ A = \\frac{e k_B T}{h} e^{\\Delta S^\\ddagger /R} \\qquad ({\\rm solutions, unimolecular})$$"
   ]
  },
  {
   "cell_type": "markdown",
   "id": "ed0bf30a",
   "metadata": {
    "cell_style": "center",
    "slideshow": {
     "slide_type": "slide"
    }
   },
   "source": [
    "## Transition State Theory: Gas Phase\n",
    "* For gas-phase, $\\Delta (PV)^\\ddagger$ is proportional to the difference in the number of moles between the transition state and reactants\n",
    "    * $\\Delta n^\\ddagger= 0$ for unimolecular reaction\n",
    "    * $\\Delta n^\\ddagger= -1$ for bimolecular reaction\n",
    "* For gas-phase unimolecular reactions,\n",
    "$$ E_a = \\Delta H^\\ddagger + RT$$\n",
    "$$ A = \\frac{e k_B T}{h} e^{\\Delta S^\\ddagger /R}$$\n",
    "\n",
    "* For gas-phase bimolecular reactions,\n",
    "$$ E_a = \\Delta H^\\ddagger + 2 RT$$\n",
    "$$ A = \\frac{e^2 k_B T}{h c^\\circ} e^{\\Delta S^\\ddagger /R}$$\n",
    "* Both the Arrhenius activation energy and preexponential terms are temperature-dependent"
   ]
  },
  {
   "cell_type": "markdown",
   "id": "8e31f2c2",
   "metadata": {
    "cell_style": "split",
    "slideshow": {
     "slide_type": "slide"
    }
   },
   "source": [
    "## Transition State Theory\n",
    "<img src=\"transition_state_question.svg\" alt=\"Drawing\" width=\"100%;\"/>"
   ]
  },
  {
   "cell_type": "markdown",
   "id": "9e402a37",
   "metadata": {
    "cell_style": "split",
    "slideshow": {
     "slide_type": "fragment"
    }
   },
   "source": [
    "<img src=\"transition_state_answer.svg\" alt=\"Drawing\" width=\"100%;\"/>"
   ]
  },
  {
   "cell_type": "markdown",
   "id": "f78c3f4d",
   "metadata": {
    "slideshow": {
     "slide_type": "slide"
    }
   },
   "source": [
    "## Diffusion Controlled Reactions"
   ]
  },
  {
   "cell_type": "markdown",
   "id": "8441df03",
   "metadata": {
    "cell_style": "split",
    "slideshow": {
     "slide_type": "-"
    }
   },
   "source": [
    "* In gas-phase, reactants move uninterrupted\n",
    "* Diffusion in solution controls how reactants approach each other\n",
    "* Rate of diffusion can determine the rate of the reaction\n",
    "* Kinetic scheme:\n",
    "$${\\rm A} + {\\rm B} \\xrightarrow{k_d} {\\rm AB}$$\n",
    "$$ {\\rm AB} \\xrightarrow{k_r} {\\rm A} + {\\rm B} $$\n",
    "$$ {\\rm AB} \\xrightarrow{k_p} {\\rm P}$$\n",
    "    * $k_d$: Diffusion rate constant\n",
    "    * $k_r$: Dissociation rate constant\n",
    "    * $k_p$: Production rate constant"
   ]
  },
  {
   "cell_type": "markdown",
   "id": "9e7e03a9",
   "metadata": {
    "cell_style": "split",
    "slideshow": {
     "slide_type": "-"
    }
   },
   "source": [
    "* Reaction rate:\n",
    "$$ R = k_p [{\\rm AB}] $$\n",
    "<img src=\"diffusion.svg\" alt=\"Drawing\" width=\"80%;\"/>"
   ]
  },
  {
   "cell_type": "markdown",
   "id": "796b831c",
   "metadata": {
    "slideshow": {
     "slide_type": "slide"
    }
   },
   "source": [
    "## Diffusion Controlled Reactions"
   ]
  },
  {
   "cell_type": "markdown",
   "id": "79148285",
   "metadata": {
    "cell_style": "split",
    "slideshow": {
     "slide_type": "-"
    }
   },
   "source": [
    "* Since ${\\rm AB}$ is an intermediate, we apply the steady-state approximation,\n",
    "$$\\frac{d [{\\rm AB}]}{dt} = 0 = k_d [{\\rm A}][{\\rm B}] - k_r [{\\rm AB}] - k_p [{\\rm AB}]$$\n",
    "$$[{\\rm AB}] = \\frac{k_d [{\\rm A}][{\\rm B}]}{k_r + k_p} $$\n",
    "* Thus, the reaction rate becomes\n",
    "$$R = \\frac{k_p k_d}{k_r + k_p}  [{\\rm A}][{\\rm B}]$$\n",
    "* If $k_p \\gg k_r$,\n",
    "$$ R = k_d [{\\rm A}][{\\rm B}]$$\n",
    "* This is the **diffusion-controlled limit**"
   ]
  },
  {
   "cell_type": "markdown",
   "id": "d9d91b23",
   "metadata": {
    "cell_style": "split",
    "slideshow": {
     "slide_type": "fragment"
    }
   },
   "source": [
    "* The diffusion rate constant can be related to the diffusion coefficients for the reactants\n",
    "$$k_d = 4 \\pi N_A (r_A + r_B) D_{AB}$$\n",
    "    * $r$: radius of the reactant\n",
    "    * $D_{AB}$: Mutual diffusion coefficient ($D_{AB} = D_A + D_B$)\n",
    "* For a spherical particle in solution,\n",
    "$$D = \\frac{k_B T}{6 \\pi \\eta r} $$\n",
    "    * **Stokes-Einstein equation**\n",
    "    * $\\eta$: Viscosity\n",
    "* $k_d$ decreases linearly with increase in $\\eta$"
   ]
  },
  {
   "cell_type": "markdown",
   "id": "767a4f23",
   "metadata": {
    "cell_style": "center",
    "slideshow": {
     "slide_type": "slide"
    }
   },
   "source": [
    "## Diffusion Controlled Reactions\n",
    "<img src=\"diffusion_question.svg\" alt=\"Drawing\" width=\"60%;\"/>"
   ]
  },
  {
   "cell_type": "markdown",
   "id": "7623eb78",
   "metadata": {
    "cell_style": "center",
    "slideshow": {
     "slide_type": "fragment"
    }
   },
   "source": [
    "<img src=\"diffusion_answer.svg\" alt=\"Drawing\" width=\"60%;\"/>"
   ]
  }
 ],
 "metadata": {
  "celltoolbar": "Slideshow",
  "kernelspec": {
   "display_name": "Python 3 (ipykernel)",
   "language": "python",
   "name": "python3"
  },
  "language_info": {
   "codemirror_mode": {
    "name": "ipython",
    "version": 3
   },
   "file_extension": ".py",
   "mimetype": "text/x-python",
   "name": "python",
   "nbconvert_exporter": "python",
   "pygments_lexer": "ipython3",
   "version": "3.9.6"
  },
  "rise": {
   "autolaunch": true
  }
 },
 "nbformat": 4,
 "nbformat_minor": 5
}
